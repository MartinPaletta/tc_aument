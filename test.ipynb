{
 "cells": [
  {
   "cell_type": "code",
   "execution_count": 28,
   "id": "4d33a04e",
   "metadata": {},
   "outputs": [],
   "source": [
    "import pandas as pd \n",
    "import numpy as np\n",
    "import plotly.express as px\n",
    "import plotly.graph_objects as go\n",
    "from plotly.subplots import make_subplots\n",
    "import streamlit as st\n"
   ]
  },
  {
   "cell_type": "code",
   "execution_count": 2,
   "id": "a907d651",
   "metadata": {},
   "outputs": [
    {
     "data": {
      "text/html": [
       "<div>\n",
       "<style scoped>\n",
       "    .dataframe tbody tr th:only-of-type {\n",
       "        vertical-align: middle;\n",
       "    }\n",
       "\n",
       "    .dataframe tbody tr th {\n",
       "        vertical-align: top;\n",
       "    }\n",
       "\n",
       "    .dataframe thead th {\n",
       "        text-align: right;\n",
       "    }\n",
       "</style>\n",
       "<table border=\"1\" class=\"dataframe\">\n",
       "  <thead>\n",
       "    <tr style=\"text-align: right;\">\n",
       "      <th></th>\n",
       "      <th>day</th>\n",
       "      <th>product_type</th>\n",
       "      <th>product_title</th>\n",
       "      <th>product_id</th>\n",
       "      <th>collection_name</th>\n",
       "      <th>representative_price</th>\n",
       "      <th>ordered_product_quantity</th>\n",
       "      <th>view_sessions</th>\n",
       "      <th>app_sale</th>\n",
       "      <th>category_sale</th>\n",
       "      <th>...</th>\n",
       "      <th>ordered_product_quantity_7d_mean</th>\n",
       "      <th>dayofweek</th>\n",
       "      <th>is_pack</th>\n",
       "      <th>views_per_day</th>\n",
       "      <th>views_per_day_product_type</th>\n",
       "      <th>units</th>\n",
       "      <th>representative_price_per_unit</th>\n",
       "      <th>conversion_rate</th>\n",
       "      <th>conversion_rate_site</th>\n",
       "      <th>conversion_rate_product_type</th>\n",
       "    </tr>\n",
       "  </thead>\n",
       "  <tbody>\n",
       "    <tr>\n",
       "      <th>0</th>\n",
       "      <td>2022-01-01</td>\n",
       "      <td></td>\n",
       "      <td>The Wardrobe 12-Pack</td>\n",
       "      <td>4172661588040</td>\n",
       "      <td>Nulo</td>\n",
       "      <td>176.6</td>\n",
       "      <td>6</td>\n",
       "      <td>377</td>\n",
       "      <td>0.0</td>\n",
       "      <td>0.0</td>\n",
       "      <td>...</td>\n",
       "      <td>NaN</td>\n",
       "      <td>5</td>\n",
       "      <td>True</td>\n",
       "      <td>62662</td>\n",
       "      <td>377</td>\n",
       "      <td>12</td>\n",
       "      <td>14.716667</td>\n",
       "      <td>0.015915</td>\n",
       "      <td>0.000096</td>\n",
       "      <td>0.015915</td>\n",
       "    </tr>\n",
       "    <tr>\n",
       "      <th>1</th>\n",
       "      <td>2022-01-02</td>\n",
       "      <td></td>\n",
       "      <td>The Wardrobe 12-Pack</td>\n",
       "      <td>4172661588040</td>\n",
       "      <td>Nulo</td>\n",
       "      <td>176.6</td>\n",
       "      <td>2</td>\n",
       "      <td>456</td>\n",
       "      <td>0.0</td>\n",
       "      <td>0.0</td>\n",
       "      <td>...</td>\n",
       "      <td>NaN</td>\n",
       "      <td>6</td>\n",
       "      <td>True</td>\n",
       "      <td>52545</td>\n",
       "      <td>456</td>\n",
       "      <td>12</td>\n",
       "      <td>14.716667</td>\n",
       "      <td>0.004386</td>\n",
       "      <td>0.000038</td>\n",
       "      <td>0.004386</td>\n",
       "    </tr>\n",
       "    <tr>\n",
       "      <th>2</th>\n",
       "      <td>2022-01-05</td>\n",
       "      <td></td>\n",
       "      <td>The Wardrobe 12-Pack</td>\n",
       "      <td>4172661588040</td>\n",
       "      <td>Nulo</td>\n",
       "      <td>154.5</td>\n",
       "      <td>3</td>\n",
       "      <td>72</td>\n",
       "      <td>0.0</td>\n",
       "      <td>0.0</td>\n",
       "      <td>...</td>\n",
       "      <td>NaN</td>\n",
       "      <td>2</td>\n",
       "      <td>True</td>\n",
       "      <td>20205</td>\n",
       "      <td>72</td>\n",
       "      <td>12</td>\n",
       "      <td>12.875000</td>\n",
       "      <td>0.041667</td>\n",
       "      <td>0.000148</td>\n",
       "      <td>0.041667</td>\n",
       "    </tr>\n",
       "    <tr>\n",
       "      <th>3</th>\n",
       "      <td>2022-01-07</td>\n",
       "      <td></td>\n",
       "      <td>The Wardrobe 12-Pack</td>\n",
       "      <td>4172661588040</td>\n",
       "      <td>Nulo</td>\n",
       "      <td>176.6</td>\n",
       "      <td>1</td>\n",
       "      <td>87</td>\n",
       "      <td>0.0</td>\n",
       "      <td>0.0</td>\n",
       "      <td>...</td>\n",
       "      <td>NaN</td>\n",
       "      <td>4</td>\n",
       "      <td>True</td>\n",
       "      <td>26397</td>\n",
       "      <td>87</td>\n",
       "      <td>12</td>\n",
       "      <td>14.716667</td>\n",
       "      <td>0.011494</td>\n",
       "      <td>0.000038</td>\n",
       "      <td>0.011494</td>\n",
       "    </tr>\n",
       "    <tr>\n",
       "      <th>4</th>\n",
       "      <td>2022-01-08</td>\n",
       "      <td></td>\n",
       "      <td>The Wardrobe 12-Pack</td>\n",
       "      <td>4172661588040</td>\n",
       "      <td>Nulo</td>\n",
       "      <td>220.7</td>\n",
       "      <td>2</td>\n",
       "      <td>126</td>\n",
       "      <td>0.0</td>\n",
       "      <td>0.0</td>\n",
       "      <td>...</td>\n",
       "      <td>NaN</td>\n",
       "      <td>5</td>\n",
       "      <td>True</td>\n",
       "      <td>31055</td>\n",
       "      <td>126</td>\n",
       "      <td>12</td>\n",
       "      <td>18.391667</td>\n",
       "      <td>0.015873</td>\n",
       "      <td>0.000064</td>\n",
       "      <td>0.015873</td>\n",
       "    </tr>\n",
       "  </tbody>\n",
       "</table>\n",
       "<p>5 rows × 29 columns</p>\n",
       "</div>"
      ],
      "text/plain": [
       "         day product_type         product_title     product_id  \\\n",
       "0 2022-01-01               The Wardrobe 12-Pack  4172661588040   \n",
       "1 2022-01-02               The Wardrobe 12-Pack  4172661588040   \n",
       "2 2022-01-05               The Wardrobe 12-Pack  4172661588040   \n",
       "3 2022-01-07               The Wardrobe 12-Pack  4172661588040   \n",
       "4 2022-01-08               The Wardrobe 12-Pack  4172661588040   \n",
       "\n",
       "  collection_name  representative_price  ordered_product_quantity  \\\n",
       "0            Nulo                 176.6                         6   \n",
       "1            Nulo                 176.6                         2   \n",
       "2            Nulo                 154.5                         3   \n",
       "3            Nulo                 176.6                         1   \n",
       "4            Nulo                 220.7                         2   \n",
       "\n",
       "   view_sessions  app_sale  category_sale  ...  \\\n",
       "0            377       0.0            0.0  ...   \n",
       "1            456       0.0            0.0  ...   \n",
       "2             72       0.0            0.0  ...   \n",
       "3             87       0.0            0.0  ...   \n",
       "4            126       0.0            0.0  ...   \n",
       "\n",
       "   ordered_product_quantity_7d_mean  dayofweek  is_pack  views_per_day  \\\n",
       "0                               NaN          5     True          62662   \n",
       "1                               NaN          6     True          52545   \n",
       "2                               NaN          2     True          20205   \n",
       "3                               NaN          4     True          26397   \n",
       "4                               NaN          5     True          31055   \n",
       "\n",
       "   views_per_day_product_type  units  representative_price_per_unit  \\\n",
       "0                         377     12                      14.716667   \n",
       "1                         456     12                      14.716667   \n",
       "2                          72     12                      12.875000   \n",
       "3                          87     12                      14.716667   \n",
       "4                         126     12                      18.391667   \n",
       "\n",
       "   conversion_rate  conversion_rate_site  conversion_rate_product_type  \n",
       "0         0.015915              0.000096                      0.015915  \n",
       "1         0.004386              0.000038                      0.004386  \n",
       "2         0.041667              0.000148                      0.041667  \n",
       "3         0.011494              0.000038                      0.011494  \n",
       "4         0.015873              0.000064                      0.015873  \n",
       "\n",
       "[5 rows x 29 columns]"
      ]
     },
     "execution_count": 2,
     "metadata": {},
     "output_type": "execute_result"
    }
   ],
   "source": [
    "features = pd.read_parquet('features_20240101.parquet')\n",
    "features.head()"
   ]
  },
  {
   "cell_type": "code",
   "execution_count": null,
   "id": "34d6ed8b",
   "metadata": {},
   "outputs": [],
   "source": []
  },
  {
   "cell_type": "code",
   "execution_count": 15,
   "id": "457621af",
   "metadata": {},
   "outputs": [
    {
     "data": {
      "text/html": [
       "<div>\n",
       "<style scoped>\n",
       "    .dataframe tbody tr th:only-of-type {\n",
       "        vertical-align: middle;\n",
       "    }\n",
       "\n",
       "    .dataframe tbody tr th {\n",
       "        vertical-align: top;\n",
       "    }\n",
       "\n",
       "    .dataframe thead th {\n",
       "        text-align: right;\n",
       "    }\n",
       "</style>\n",
       "<table border=\"1\" class=\"dataframe\">\n",
       "  <thead>\n",
       "    <tr style=\"text-align: right;\">\n",
       "      <th></th>\n",
       "      <th>day</th>\n",
       "      <th>product_type</th>\n",
       "      <th>product_title</th>\n",
       "      <th>product_id</th>\n",
       "      <th>collection_name</th>\n",
       "      <th>representative_price</th>\n",
       "      <th>ordered_product_quantity</th>\n",
       "      <th>view_sessions</th>\n",
       "      <th>app_sale</th>\n",
       "      <th>category_sale</th>\n",
       "      <th>...</th>\n",
       "      <th>ordered_product_quantity_7d_mean</th>\n",
       "      <th>dayofweek</th>\n",
       "      <th>is_pack</th>\n",
       "      <th>views_per_day</th>\n",
       "      <th>views_per_day_product_type</th>\n",
       "      <th>units</th>\n",
       "      <th>representative_price_per_unit</th>\n",
       "      <th>conversion_rate</th>\n",
       "      <th>conversion_rate_site</th>\n",
       "      <th>conversion_rate_product_type</th>\n",
       "    </tr>\n",
       "  </thead>\n",
       "  <tbody>\n",
       "    <tr>\n",
       "      <th>237224</th>\n",
       "      <td>2022-10-13</td>\n",
       "      <td>crew neck tee</td>\n",
       "      <td>The Staple 6-Pack</td>\n",
       "      <td>6659232268360</td>\n",
       "      <td>404 Upsell</td>\n",
       "      <td>100.0</td>\n",
       "      <td>89</td>\n",
       "      <td>1413</td>\n",
       "      <td>0.0</td>\n",
       "      <td>0.0</td>\n",
       "      <td>...</td>\n",
       "      <td>NaN</td>\n",
       "      <td>3</td>\n",
       "      <td>True</td>\n",
       "      <td>50647</td>\n",
       "      <td>20603</td>\n",
       "      <td>6</td>\n",
       "      <td>16.666667</td>\n",
       "      <td>0.062987</td>\n",
       "      <td>0.001757</td>\n",
       "      <td>0.004320</td>\n",
       "    </tr>\n",
       "    <tr>\n",
       "      <th>237225</th>\n",
       "      <td>2022-10-14</td>\n",
       "      <td>crew neck tee</td>\n",
       "      <td>The Staple 6-Pack</td>\n",
       "      <td>6659232268360</td>\n",
       "      <td>404 Upsell</td>\n",
       "      <td>100.0</td>\n",
       "      <td>356</td>\n",
       "      <td>3598</td>\n",
       "      <td>0.0</td>\n",
       "      <td>0.0</td>\n",
       "      <td>...</td>\n",
       "      <td>NaN</td>\n",
       "      <td>4</td>\n",
       "      <td>True</td>\n",
       "      <td>53078</td>\n",
       "      <td>23918</td>\n",
       "      <td>6</td>\n",
       "      <td>16.666667</td>\n",
       "      <td>0.098944</td>\n",
       "      <td>0.006707</td>\n",
       "      <td>0.014884</td>\n",
       "    </tr>\n",
       "    <tr>\n",
       "      <th>237226</th>\n",
       "      <td>2022-10-15</td>\n",
       "      <td>crew neck tee</td>\n",
       "      <td>The Staple 6-Pack</td>\n",
       "      <td>6659232268360</td>\n",
       "      <td>404 Upsell</td>\n",
       "      <td>100.0</td>\n",
       "      <td>362</td>\n",
       "      <td>3718</td>\n",
       "      <td>0.0</td>\n",
       "      <td>0.0</td>\n",
       "      <td>...</td>\n",
       "      <td>NaN</td>\n",
       "      <td>5</td>\n",
       "      <td>True</td>\n",
       "      <td>57835</td>\n",
       "      <td>27646</td>\n",
       "      <td>6</td>\n",
       "      <td>16.666667</td>\n",
       "      <td>0.097364</td>\n",
       "      <td>0.006259</td>\n",
       "      <td>0.013094</td>\n",
       "    </tr>\n",
       "    <tr>\n",
       "      <th>237227</th>\n",
       "      <td>2022-10-16</td>\n",
       "      <td>crew neck tee</td>\n",
       "      <td>The Staple 6-Pack</td>\n",
       "      <td>6659232268360</td>\n",
       "      <td>404 Upsell</td>\n",
       "      <td>100.0</td>\n",
       "      <td>451</td>\n",
       "      <td>4337</td>\n",
       "      <td>0.0</td>\n",
       "      <td>0.0</td>\n",
       "      <td>...</td>\n",
       "      <td>NaN</td>\n",
       "      <td>6</td>\n",
       "      <td>True</td>\n",
       "      <td>73344</td>\n",
       "      <td>31208</td>\n",
       "      <td>6</td>\n",
       "      <td>16.666667</td>\n",
       "      <td>0.103989</td>\n",
       "      <td>0.006149</td>\n",
       "      <td>0.014451</td>\n",
       "    </tr>\n",
       "    <tr>\n",
       "      <th>237228</th>\n",
       "      <td>2022-10-17</td>\n",
       "      <td>crew neck tee</td>\n",
       "      <td>The Staple 6-Pack</td>\n",
       "      <td>6659232268360</td>\n",
       "      <td>404 Upsell</td>\n",
       "      <td>100.0</td>\n",
       "      <td>377</td>\n",
       "      <td>3399</td>\n",
       "      <td>0.0</td>\n",
       "      <td>0.0</td>\n",
       "      <td>...</td>\n",
       "      <td>NaN</td>\n",
       "      <td>0</td>\n",
       "      <td>True</td>\n",
       "      <td>56361</td>\n",
       "      <td>24097</td>\n",
       "      <td>6</td>\n",
       "      <td>16.666667</td>\n",
       "      <td>0.110915</td>\n",
       "      <td>0.006689</td>\n",
       "      <td>0.015645</td>\n",
       "    </tr>\n",
       "    <tr>\n",
       "      <th>...</th>\n",
       "      <td>...</td>\n",
       "      <td>...</td>\n",
       "      <td>...</td>\n",
       "      <td>...</td>\n",
       "      <td>...</td>\n",
       "      <td>...</td>\n",
       "      <td>...</td>\n",
       "      <td>...</td>\n",
       "      <td>...</td>\n",
       "      <td>...</td>\n",
       "      <td>...</td>\n",
       "      <td>...</td>\n",
       "      <td>...</td>\n",
       "      <td>...</td>\n",
       "      <td>...</td>\n",
       "      <td>...</td>\n",
       "      <td>...</td>\n",
       "      <td>...</td>\n",
       "      <td>...</td>\n",
       "      <td>...</td>\n",
       "      <td>...</td>\n",
       "    </tr>\n",
       "    <tr>\n",
       "      <th>237634</th>\n",
       "      <td>2023-11-27</td>\n",
       "      <td>crew neck tee</td>\n",
       "      <td>The Staple 6-Pack</td>\n",
       "      <td>6659232268360</td>\n",
       "      <td>404 Upsell</td>\n",
       "      <td>80.0</td>\n",
       "      <td>1860</td>\n",
       "      <td>11714</td>\n",
       "      <td>0.0</td>\n",
       "      <td>0.0</td>\n",
       "      <td>...</td>\n",
       "      <td>1148.000000</td>\n",
       "      <td>0</td>\n",
       "      <td>True</td>\n",
       "      <td>260136</td>\n",
       "      <td>44936</td>\n",
       "      <td>6</td>\n",
       "      <td>13.333333</td>\n",
       "      <td>0.158784</td>\n",
       "      <td>0.007150</td>\n",
       "      <td>0.041392</td>\n",
       "    </tr>\n",
       "    <tr>\n",
       "      <th>237635</th>\n",
       "      <td>2023-11-28</td>\n",
       "      <td>crew neck tee</td>\n",
       "      <td>The Staple 6-Pack</td>\n",
       "      <td>6659232268360</td>\n",
       "      <td>404 Upsell</td>\n",
       "      <td>80.0</td>\n",
       "      <td>815</td>\n",
       "      <td>7678</td>\n",
       "      <td>0.0</td>\n",
       "      <td>0.0</td>\n",
       "      <td>...</td>\n",
       "      <td>1321.285714</td>\n",
       "      <td>1</td>\n",
       "      <td>True</td>\n",
       "      <td>140164</td>\n",
       "      <td>26019</td>\n",
       "      <td>6</td>\n",
       "      <td>13.333333</td>\n",
       "      <td>0.106147</td>\n",
       "      <td>0.005815</td>\n",
       "      <td>0.031323</td>\n",
       "    </tr>\n",
       "    <tr>\n",
       "      <th>237636</th>\n",
       "      <td>2023-11-29</td>\n",
       "      <td>crew neck tee</td>\n",
       "      <td>The Staple 6-Pack</td>\n",
       "      <td>6659232268360</td>\n",
       "      <td>404 Upsell</td>\n",
       "      <td>80.0</td>\n",
       "      <td>435</td>\n",
       "      <td>4235</td>\n",
       "      <td>0.0</td>\n",
       "      <td>0.0</td>\n",
       "      <td>...</td>\n",
       "      <td>1356.857143</td>\n",
       "      <td>2</td>\n",
       "      <td>True</td>\n",
       "      <td>76180</td>\n",
       "      <td>14128</td>\n",
       "      <td>6</td>\n",
       "      <td>13.333333</td>\n",
       "      <td>0.102715</td>\n",
       "      <td>0.005710</td>\n",
       "      <td>0.030790</td>\n",
       "    </tr>\n",
       "    <tr>\n",
       "      <th>237637</th>\n",
       "      <td>2023-11-30</td>\n",
       "      <td>crew neck tee</td>\n",
       "      <td>The Staple 6-Pack</td>\n",
       "      <td>6659232268360</td>\n",
       "      <td>404 Upsell</td>\n",
       "      <td>80.0</td>\n",
       "      <td>380</td>\n",
       "      <td>3603</td>\n",
       "      <td>0.0</td>\n",
       "      <td>0.0</td>\n",
       "      <td>...</td>\n",
       "      <td>1317.000000</td>\n",
       "      <td>3</td>\n",
       "      <td>True</td>\n",
       "      <td>67271</td>\n",
       "      <td>12251</td>\n",
       "      <td>6</td>\n",
       "      <td>13.333333</td>\n",
       "      <td>0.105468</td>\n",
       "      <td>0.005649</td>\n",
       "      <td>0.031018</td>\n",
       "    </tr>\n",
       "    <tr>\n",
       "      <th>237638</th>\n",
       "      <td>2023-12-01</td>\n",
       "      <td>crew neck tee</td>\n",
       "      <td>The Staple 6-Pack</td>\n",
       "      <td>6659232268360</td>\n",
       "      <td>404 Upsell</td>\n",
       "      <td>80.0</td>\n",
       "      <td>396</td>\n",
       "      <td>3498</td>\n",
       "      <td>0.0</td>\n",
       "      <td>0.0</td>\n",
       "      <td>...</td>\n",
       "      <td>1221.571429</td>\n",
       "      <td>4</td>\n",
       "      <td>True</td>\n",
       "      <td>62876</td>\n",
       "      <td>12091</td>\n",
       "      <td>6</td>\n",
       "      <td>13.333333</td>\n",
       "      <td>0.113208</td>\n",
       "      <td>0.006298</td>\n",
       "      <td>0.032752</td>\n",
       "    </tr>\n",
       "  </tbody>\n",
       "</table>\n",
       "<p>415 rows × 29 columns</p>\n",
       "</div>"
      ],
      "text/plain": [
       "              day   product_type      product_title     product_id  \\\n",
       "237224 2022-10-13  crew neck tee  The Staple 6-Pack  6659232268360   \n",
       "237225 2022-10-14  crew neck tee  The Staple 6-Pack  6659232268360   \n",
       "237226 2022-10-15  crew neck tee  The Staple 6-Pack  6659232268360   \n",
       "237227 2022-10-16  crew neck tee  The Staple 6-Pack  6659232268360   \n",
       "237228 2022-10-17  crew neck tee  The Staple 6-Pack  6659232268360   \n",
       "...           ...            ...                ...            ...   \n",
       "237634 2023-11-27  crew neck tee  The Staple 6-Pack  6659232268360   \n",
       "237635 2023-11-28  crew neck tee  The Staple 6-Pack  6659232268360   \n",
       "237636 2023-11-29  crew neck tee  The Staple 6-Pack  6659232268360   \n",
       "237637 2023-11-30  crew neck tee  The Staple 6-Pack  6659232268360   \n",
       "237638 2023-12-01  crew neck tee  The Staple 6-Pack  6659232268360   \n",
       "\n",
       "       collection_name  representative_price  ordered_product_quantity  \\\n",
       "237224      404 Upsell                 100.0                        89   \n",
       "237225      404 Upsell                 100.0                       356   \n",
       "237226      404 Upsell                 100.0                       362   \n",
       "237227      404 Upsell                 100.0                       451   \n",
       "237228      404 Upsell                 100.0                       377   \n",
       "...                ...                   ...                       ...   \n",
       "237634      404 Upsell                  80.0                      1860   \n",
       "237635      404 Upsell                  80.0                       815   \n",
       "237636      404 Upsell                  80.0                       435   \n",
       "237637      404 Upsell                  80.0                       380   \n",
       "237638      404 Upsell                  80.0                       396   \n",
       "\n",
       "        view_sessions  app_sale  category_sale  ...  \\\n",
       "237224           1413       0.0            0.0  ...   \n",
       "237225           3598       0.0            0.0  ...   \n",
       "237226           3718       0.0            0.0  ...   \n",
       "237227           4337       0.0            0.0  ...   \n",
       "237228           3399       0.0            0.0  ...   \n",
       "...               ...       ...            ...  ...   \n",
       "237634          11714       0.0            0.0  ...   \n",
       "237635           7678       0.0            0.0  ...   \n",
       "237636           4235       0.0            0.0  ...   \n",
       "237637           3603       0.0            0.0  ...   \n",
       "237638           3498       0.0            0.0  ...   \n",
       "\n",
       "        ordered_product_quantity_7d_mean  dayofweek  is_pack  views_per_day  \\\n",
       "237224                               NaN          3     True          50647   \n",
       "237225                               NaN          4     True          53078   \n",
       "237226                               NaN          5     True          57835   \n",
       "237227                               NaN          6     True          73344   \n",
       "237228                               NaN          0     True          56361   \n",
       "...                                  ...        ...      ...            ...   \n",
       "237634                       1148.000000          0     True         260136   \n",
       "237635                       1321.285714          1     True         140164   \n",
       "237636                       1356.857143          2     True          76180   \n",
       "237637                       1317.000000          3     True          67271   \n",
       "237638                       1221.571429          4     True          62876   \n",
       "\n",
       "        views_per_day_product_type  units  representative_price_per_unit  \\\n",
       "237224                       20603      6                      16.666667   \n",
       "237225                       23918      6                      16.666667   \n",
       "237226                       27646      6                      16.666667   \n",
       "237227                       31208      6                      16.666667   \n",
       "237228                       24097      6                      16.666667   \n",
       "...                            ...    ...                            ...   \n",
       "237634                       44936      6                      13.333333   \n",
       "237635                       26019      6                      13.333333   \n",
       "237636                       14128      6                      13.333333   \n",
       "237637                       12251      6                      13.333333   \n",
       "237638                       12091      6                      13.333333   \n",
       "\n",
       "        conversion_rate  conversion_rate_site  conversion_rate_product_type  \n",
       "237224         0.062987              0.001757                      0.004320  \n",
       "237225         0.098944              0.006707                      0.014884  \n",
       "237226         0.097364              0.006259                      0.013094  \n",
       "237227         0.103989              0.006149                      0.014451  \n",
       "237228         0.110915              0.006689                      0.015645  \n",
       "...                 ...                   ...                           ...  \n",
       "237634         0.158784              0.007150                      0.041392  \n",
       "237635         0.106147              0.005815                      0.031323  \n",
       "237636         0.102715              0.005710                      0.030790  \n",
       "237637         0.105468              0.005649                      0.031018  \n",
       "237638         0.113208              0.006298                      0.032752  \n",
       "\n",
       "[415 rows x 29 columns]"
      ]
     },
     "execution_count": 15,
     "metadata": {},
     "output_type": "execute_result"
    }
   ],
   "source": [
    "PRODUCT_ID = 6659232268360\n",
    "MIN_PRICE = 60\n",
    "MAX_PRICE = 200\n",
    "\n",
    "\n",
    "MIN_VIEWS = 60\n",
    "MAX_VIEWS = 5000\n",
    "\n",
    "\n",
    "\n",
    "data = features.copy().query(f\"product_id == {PRODUCT_ID}\")\n",
    "PRODUCT_TITLE = data['product_title'].unique()[0]\n",
    "data"
   ]
  },
  {
   "cell_type": "code",
   "execution_count": 16,
   "id": "e3900263",
   "metadata": {},
   "outputs": [
    {
     "data": {
      "application/vnd.plotly.v1+json": {
       "config": {
        "plotlyServerURL": "https://plot.ly"
       },
       "data": [
        {
         "alignmentgroup": "True",
         "bingroup": "x",
         "hovertemplate": "x=%{x}<br>count=%{y}<extra></extra>",
         "legendgroup": "",
         "marker": {
          "color": "#636efa",
          "pattern": {
           "shape": ""
          }
         },
         "name": "",
         "offsetgroup": "",
         "orientation": "v",
         "showlegend": false,
         "type": "histogram",
         "x": [
          100,
          100,
          100,
          100,
          100,
          100,
          100,
          100,
          100,
          100,
          100,
          100,
          100,
          100,
          100,
          110,
          110,
          99,
          110,
          102.7,
          88,
          90,
          90,
          90,
          90,
          90,
          90,
          90,
          90,
          90,
          90,
          90,
          90,
          90,
          90,
          89.6,
          90,
          90,
          95.8,
          90,
          90,
          90,
          90.7,
          92.8,
          94.4,
          89.6,
          91.4,
          90,
          90,
          90,
          90,
          90,
          90,
          90,
          100,
          100,
          100,
          100,
          100,
          100,
          101.9,
          106.7,
          100,
          100,
          100,
          100,
          100,
          100,
          100,
          100,
          100,
          100,
          100,
          100,
          86.7,
          100,
          66.7,
          100,
          100,
          100,
          100,
          100,
          100,
          100,
          100,
          100,
          100,
          100,
          100,
          100,
          100,
          100,
          100,
          100,
          100,
          100,
          100,
          100,
          100,
          100,
          100,
          100,
          100,
          100,
          99.9,
          99.9,
          99.9,
          99.9,
          99.9,
          99.9,
          99.9,
          99.9,
          99.9,
          99.9,
          99.9,
          99.9,
          99.9,
          99.9,
          99.9,
          99.9,
          99.9,
          99.9,
          99.9,
          99.9,
          99.9,
          99.9,
          99.9,
          99.9,
          99.9,
          99.9,
          99.9,
          99.9,
          99.9,
          99.9,
          99.9,
          99.9,
          99.9,
          99.9,
          99.9,
          99.9,
          99.9,
          99.9,
          103.7,
          99.9,
          99.9,
          99.9,
          99.9,
          99.9,
          99.9,
          99.9,
          98.2,
          99.9,
          99.9,
          99.9,
          99.9,
          99.9,
          99.9,
          99.9,
          99.9,
          99.9,
          99.9,
          99.9,
          99.9,
          99.9,
          99.9,
          99.9,
          99.9,
          99.9,
          99.9,
          99.9,
          99.9,
          99.9,
          99.9,
          99.9,
          99.9,
          120,
          99.3,
          96.6,
          99.9,
          99.9,
          99.9,
          99.9,
          99.9,
          99.9,
          99.9,
          99.9,
          99.9,
          99.9,
          102.7,
          101.2,
          110.2,
          103.1,
          107.5,
          95.3,
          95.7,
          96.1,
          99.5,
          99.4,
          101.6,
          108.2,
          102.4,
          99.9,
          75,
          105,
          103.3,
          103.3,
          109.2,
          96.7,
          102.5,
          85,
          102.5,
          78.8,
          112.1,
          104.7,
          102.5,
          83.1,
          88.2,
          89.4,
          104.3,
          95,
          102.5,
          107,
          100.6,
          105,
          110,
          105,
          93,
          92,
          89,
          91.5,
          105,
          105,
          105,
          105,
          101.5,
          102,
          105,
          105,
          97,
          97,
          97,
          97,
          97,
          105,
          105,
          105,
          105,
          105,
          105,
          105,
          105,
          105,
          105,
          104.9,
          105,
          114.9,
          105,
          105,
          105,
          97,
          98.8,
          91.1,
          93.2,
          94.7,
          91.2,
          86.8,
          105,
          105,
          103,
          105.9,
          112.8,
          109.7,
          98.1,
          105,
          105,
          105,
          102.4,
          105,
          73.2,
          105,
          105,
          105,
          105,
          105.1,
          77.7,
          105,
          105,
          105,
          103.3,
          105,
          99.7,
          99.3,
          105,
          105,
          97.5,
          91.1,
          99.9,
          100.2,
          95.4,
          101.2,
          100.2,
          91.8,
          101.7,
          98.6,
          12.3,
          102,
          107.9,
          97.5,
          101.9,
          97.5,
          97.5,
          103,
          105,
          105,
          105,
          105,
          105,
          105,
          105,
          105,
          105,
          105,
          97.4,
          97.4,
          99.8,
          89.3,
          98,
          95,
          97.4,
          92.5,
          97,
          94.6,
          95.1,
          98.8,
          77.7,
          73,
          73,
          97.4,
          92,
          97.4,
          93.8,
          90.7,
          97.4,
          97.4,
          97.4,
          97.4,
          97.4,
          97.4,
          97.4,
          97.4,
          90,
          90,
          90,
          90,
          90,
          90,
          97.4,
          90,
          90,
          90,
          90,
          90,
          90,
          90,
          90,
          90,
          90,
          90,
          90,
          90,
          90,
          90,
          90,
          90,
          90,
          90,
          90,
          90,
          90,
          90,
          90,
          90,
          89.9,
          89.9,
          90,
          75,
          75,
          79.5,
          78.3,
          80,
          80,
          80,
          80,
          80,
          80,
          80,
          80,
          80,
          80,
          80,
          80,
          80,
          86.4,
          80,
          80,
          80,
          80,
          82.6,
          85.1,
          82.4,
          80,
          80,
          80,
          80,
          80
         ],
         "xaxis": "x",
         "yaxis": "y"
        }
       ],
       "layout": {
        "barmode": "relative",
        "height": 500,
        "legend": {
         "tracegroupgap": 0
        },
        "margin": {
         "t": 60
        },
        "showlegend": false,
        "template": {
         "data": {
          "bar": [
           {
            "error_x": {
             "color": "#2a3f5f"
            },
            "error_y": {
             "color": "#2a3f5f"
            },
            "marker": {
             "line": {
              "color": "white",
              "width": 0.5
             },
             "pattern": {
              "fillmode": "overlay",
              "size": 10,
              "solidity": 0.2
             }
            },
            "type": "bar"
           }
          ],
          "barpolar": [
           {
            "marker": {
             "line": {
              "color": "white",
              "width": 0.5
             },
             "pattern": {
              "fillmode": "overlay",
              "size": 10,
              "solidity": 0.2
             }
            },
            "type": "barpolar"
           }
          ],
          "carpet": [
           {
            "aaxis": {
             "endlinecolor": "#2a3f5f",
             "gridcolor": "#C8D4E3",
             "linecolor": "#C8D4E3",
             "minorgridcolor": "#C8D4E3",
             "startlinecolor": "#2a3f5f"
            },
            "baxis": {
             "endlinecolor": "#2a3f5f",
             "gridcolor": "#C8D4E3",
             "linecolor": "#C8D4E3",
             "minorgridcolor": "#C8D4E3",
             "startlinecolor": "#2a3f5f"
            },
            "type": "carpet"
           }
          ],
          "choropleth": [
           {
            "colorbar": {
             "outlinewidth": 0,
             "ticks": ""
            },
            "type": "choropleth"
           }
          ],
          "contour": [
           {
            "colorbar": {
             "outlinewidth": 0,
             "ticks": ""
            },
            "colorscale": [
             [
              0,
              "#0d0887"
             ],
             [
              0.1111111111111111,
              "#46039f"
             ],
             [
              0.2222222222222222,
              "#7201a8"
             ],
             [
              0.3333333333333333,
              "#9c179e"
             ],
             [
              0.4444444444444444,
              "#bd3786"
             ],
             [
              0.5555555555555556,
              "#d8576b"
             ],
             [
              0.6666666666666666,
              "#ed7953"
             ],
             [
              0.7777777777777778,
              "#fb9f3a"
             ],
             [
              0.8888888888888888,
              "#fdca26"
             ],
             [
              1,
              "#f0f921"
             ]
            ],
            "type": "contour"
           }
          ],
          "contourcarpet": [
           {
            "colorbar": {
             "outlinewidth": 0,
             "ticks": ""
            },
            "type": "contourcarpet"
           }
          ],
          "heatmap": [
           {
            "colorbar": {
             "outlinewidth": 0,
             "ticks": ""
            },
            "colorscale": [
             [
              0,
              "#0d0887"
             ],
             [
              0.1111111111111111,
              "#46039f"
             ],
             [
              0.2222222222222222,
              "#7201a8"
             ],
             [
              0.3333333333333333,
              "#9c179e"
             ],
             [
              0.4444444444444444,
              "#bd3786"
             ],
             [
              0.5555555555555556,
              "#d8576b"
             ],
             [
              0.6666666666666666,
              "#ed7953"
             ],
             [
              0.7777777777777778,
              "#fb9f3a"
             ],
             [
              0.8888888888888888,
              "#fdca26"
             ],
             [
              1,
              "#f0f921"
             ]
            ],
            "type": "heatmap"
           }
          ],
          "heatmapgl": [
           {
            "colorbar": {
             "outlinewidth": 0,
             "ticks": ""
            },
            "colorscale": [
             [
              0,
              "#0d0887"
             ],
             [
              0.1111111111111111,
              "#46039f"
             ],
             [
              0.2222222222222222,
              "#7201a8"
             ],
             [
              0.3333333333333333,
              "#9c179e"
             ],
             [
              0.4444444444444444,
              "#bd3786"
             ],
             [
              0.5555555555555556,
              "#d8576b"
             ],
             [
              0.6666666666666666,
              "#ed7953"
             ],
             [
              0.7777777777777778,
              "#fb9f3a"
             ],
             [
              0.8888888888888888,
              "#fdca26"
             ],
             [
              1,
              "#f0f921"
             ]
            ],
            "type": "heatmapgl"
           }
          ],
          "histogram": [
           {
            "marker": {
             "pattern": {
              "fillmode": "overlay",
              "size": 10,
              "solidity": 0.2
             }
            },
            "type": "histogram"
           }
          ],
          "histogram2d": [
           {
            "colorbar": {
             "outlinewidth": 0,
             "ticks": ""
            },
            "colorscale": [
             [
              0,
              "#0d0887"
             ],
             [
              0.1111111111111111,
              "#46039f"
             ],
             [
              0.2222222222222222,
              "#7201a8"
             ],
             [
              0.3333333333333333,
              "#9c179e"
             ],
             [
              0.4444444444444444,
              "#bd3786"
             ],
             [
              0.5555555555555556,
              "#d8576b"
             ],
             [
              0.6666666666666666,
              "#ed7953"
             ],
             [
              0.7777777777777778,
              "#fb9f3a"
             ],
             [
              0.8888888888888888,
              "#fdca26"
             ],
             [
              1,
              "#f0f921"
             ]
            ],
            "type": "histogram2d"
           }
          ],
          "histogram2dcontour": [
           {
            "colorbar": {
             "outlinewidth": 0,
             "ticks": ""
            },
            "colorscale": [
             [
              0,
              "#0d0887"
             ],
             [
              0.1111111111111111,
              "#46039f"
             ],
             [
              0.2222222222222222,
              "#7201a8"
             ],
             [
              0.3333333333333333,
              "#9c179e"
             ],
             [
              0.4444444444444444,
              "#bd3786"
             ],
             [
              0.5555555555555556,
              "#d8576b"
             ],
             [
              0.6666666666666666,
              "#ed7953"
             ],
             [
              0.7777777777777778,
              "#fb9f3a"
             ],
             [
              0.8888888888888888,
              "#fdca26"
             ],
             [
              1,
              "#f0f921"
             ]
            ],
            "type": "histogram2dcontour"
           }
          ],
          "mesh3d": [
           {
            "colorbar": {
             "outlinewidth": 0,
             "ticks": ""
            },
            "type": "mesh3d"
           }
          ],
          "parcoords": [
           {
            "line": {
             "colorbar": {
              "outlinewidth": 0,
              "ticks": ""
             }
            },
            "type": "parcoords"
           }
          ],
          "pie": [
           {
            "automargin": true,
            "type": "pie"
           }
          ],
          "scatter": [
           {
            "marker": {
             "colorbar": {
              "outlinewidth": 0,
              "ticks": ""
             }
            },
            "type": "scatter"
           }
          ],
          "scatter3d": [
           {
            "line": {
             "colorbar": {
              "outlinewidth": 0,
              "ticks": ""
             }
            },
            "marker": {
             "colorbar": {
              "outlinewidth": 0,
              "ticks": ""
             }
            },
            "type": "scatter3d"
           }
          ],
          "scattercarpet": [
           {
            "marker": {
             "colorbar": {
              "outlinewidth": 0,
              "ticks": ""
             }
            },
            "type": "scattercarpet"
           }
          ],
          "scattergeo": [
           {
            "marker": {
             "colorbar": {
              "outlinewidth": 0,
              "ticks": ""
             }
            },
            "type": "scattergeo"
           }
          ],
          "scattergl": [
           {
            "marker": {
             "colorbar": {
              "outlinewidth": 0,
              "ticks": ""
             }
            },
            "type": "scattergl"
           }
          ],
          "scattermapbox": [
           {
            "marker": {
             "colorbar": {
              "outlinewidth": 0,
              "ticks": ""
             }
            },
            "type": "scattermapbox"
           }
          ],
          "scatterpolar": [
           {
            "marker": {
             "colorbar": {
              "outlinewidth": 0,
              "ticks": ""
             }
            },
            "type": "scatterpolar"
           }
          ],
          "scatterpolargl": [
           {
            "marker": {
             "colorbar": {
              "outlinewidth": 0,
              "ticks": ""
             }
            },
            "type": "scatterpolargl"
           }
          ],
          "scatterternary": [
           {
            "marker": {
             "colorbar": {
              "outlinewidth": 0,
              "ticks": ""
             }
            },
            "type": "scatterternary"
           }
          ],
          "surface": [
           {
            "colorbar": {
             "outlinewidth": 0,
             "ticks": ""
            },
            "colorscale": [
             [
              0,
              "#0d0887"
             ],
             [
              0.1111111111111111,
              "#46039f"
             ],
             [
              0.2222222222222222,
              "#7201a8"
             ],
             [
              0.3333333333333333,
              "#9c179e"
             ],
             [
              0.4444444444444444,
              "#bd3786"
             ],
             [
              0.5555555555555556,
              "#d8576b"
             ],
             [
              0.6666666666666666,
              "#ed7953"
             ],
             [
              0.7777777777777778,
              "#fb9f3a"
             ],
             [
              0.8888888888888888,
              "#fdca26"
             ],
             [
              1,
              "#f0f921"
             ]
            ],
            "type": "surface"
           }
          ],
          "table": [
           {
            "cells": {
             "fill": {
              "color": "#EBF0F8"
             },
             "line": {
              "color": "white"
             }
            },
            "header": {
             "fill": {
              "color": "#C8D4E3"
             },
             "line": {
              "color": "white"
             }
            },
            "type": "table"
           }
          ]
         },
         "layout": {
          "annotationdefaults": {
           "arrowcolor": "#2a3f5f",
           "arrowhead": 0,
           "arrowwidth": 1
          },
          "autotypenumbers": "strict",
          "coloraxis": {
           "colorbar": {
            "outlinewidth": 0,
            "ticks": ""
           }
          },
          "colorscale": {
           "diverging": [
            [
             0,
             "#8e0152"
            ],
            [
             0.1,
             "#c51b7d"
            ],
            [
             0.2,
             "#de77ae"
            ],
            [
             0.3,
             "#f1b6da"
            ],
            [
             0.4,
             "#fde0ef"
            ],
            [
             0.5,
             "#f7f7f7"
            ],
            [
             0.6,
             "#e6f5d0"
            ],
            [
             0.7,
             "#b8e186"
            ],
            [
             0.8,
             "#7fbc41"
            ],
            [
             0.9,
             "#4d9221"
            ],
            [
             1,
             "#276419"
            ]
           ],
           "sequential": [
            [
             0,
             "#0d0887"
            ],
            [
             0.1111111111111111,
             "#46039f"
            ],
            [
             0.2222222222222222,
             "#7201a8"
            ],
            [
             0.3333333333333333,
             "#9c179e"
            ],
            [
             0.4444444444444444,
             "#bd3786"
            ],
            [
             0.5555555555555556,
             "#d8576b"
            ],
            [
             0.6666666666666666,
             "#ed7953"
            ],
            [
             0.7777777777777778,
             "#fb9f3a"
            ],
            [
             0.8888888888888888,
             "#fdca26"
            ],
            [
             1,
             "#f0f921"
            ]
           ],
           "sequentialminus": [
            [
             0,
             "#0d0887"
            ],
            [
             0.1111111111111111,
             "#46039f"
            ],
            [
             0.2222222222222222,
             "#7201a8"
            ],
            [
             0.3333333333333333,
             "#9c179e"
            ],
            [
             0.4444444444444444,
             "#bd3786"
            ],
            [
             0.5555555555555556,
             "#d8576b"
            ],
            [
             0.6666666666666666,
             "#ed7953"
            ],
            [
             0.7777777777777778,
             "#fb9f3a"
            ],
            [
             0.8888888888888888,
             "#fdca26"
            ],
            [
             1,
             "#f0f921"
            ]
           ]
          },
          "colorway": [
           "#636efa",
           "#EF553B",
           "#00cc96",
           "#ab63fa",
           "#FFA15A",
           "#19d3f3",
           "#FF6692",
           "#B6E880",
           "#FF97FF",
           "#FECB52"
          ],
          "font": {
           "color": "#2a3f5f"
          },
          "geo": {
           "bgcolor": "white",
           "lakecolor": "white",
           "landcolor": "white",
           "showlakes": true,
           "showland": true,
           "subunitcolor": "#C8D4E3"
          },
          "hoverlabel": {
           "align": "left"
          },
          "hovermode": "closest",
          "mapbox": {
           "style": "light"
          },
          "paper_bgcolor": "white",
          "plot_bgcolor": "white",
          "polar": {
           "angularaxis": {
            "gridcolor": "#EBF0F8",
            "linecolor": "#EBF0F8",
            "ticks": ""
           },
           "bgcolor": "white",
           "radialaxis": {
            "gridcolor": "#EBF0F8",
            "linecolor": "#EBF0F8",
            "ticks": ""
           }
          },
          "scene": {
           "xaxis": {
            "backgroundcolor": "white",
            "gridcolor": "#DFE8F3",
            "gridwidth": 2,
            "linecolor": "#EBF0F8",
            "showbackground": true,
            "ticks": "",
            "zerolinecolor": "#EBF0F8"
           },
           "yaxis": {
            "backgroundcolor": "white",
            "gridcolor": "#DFE8F3",
            "gridwidth": 2,
            "linecolor": "#EBF0F8",
            "showbackground": true,
            "ticks": "",
            "zerolinecolor": "#EBF0F8"
           },
           "zaxis": {
            "backgroundcolor": "white",
            "gridcolor": "#DFE8F3",
            "gridwidth": 2,
            "linecolor": "#EBF0F8",
            "showbackground": true,
            "ticks": "",
            "zerolinecolor": "#EBF0F8"
           }
          },
          "shapedefaults": {
           "line": {
            "color": "#2a3f5f"
           }
          },
          "ternary": {
           "aaxis": {
            "gridcolor": "#DFE8F3",
            "linecolor": "#A2B1C6",
            "ticks": ""
           },
           "baxis": {
            "gridcolor": "#DFE8F3",
            "linecolor": "#A2B1C6",
            "ticks": ""
           },
           "bgcolor": "white",
           "caxis": {
            "gridcolor": "#DFE8F3",
            "linecolor": "#A2B1C6",
            "ticks": ""
           }
          },
          "title": {
           "x": 0.05
          },
          "xaxis": {
           "automargin": true,
           "gridcolor": "#EBF0F8",
           "linecolor": "#EBF0F8",
           "ticks": "",
           "title": {
            "standoff": 15
           },
           "zerolinecolor": "#EBF0F8",
           "zerolinewidth": 2
          },
          "yaxis": {
           "automargin": true,
           "gridcolor": "#EBF0F8",
           "linecolor": "#EBF0F8",
           "ticks": "",
           "title": {
            "standoff": 15
           },
           "zerolinecolor": "#EBF0F8",
           "zerolinewidth": 2
          }
         }
        },
        "title": {
         "text": "Price distribution of product_id 6659232268360 - The Staple 6-Pack "
        },
        "width": 800,
        "xaxis": {
         "anchor": "y",
         "domain": [
          0,
          1
         ],
         "showgrid": false,
         "tickprefix": "$",
         "title": {
          "text": "Representative price"
         }
        },
        "yaxis": {
         "anchor": "x",
         "domain": [
          0,
          1
         ],
         "showgrid": false,
         "title": {
          "text": "count"
         }
        }
       }
      },
      "text/html": [
       "<div>                            <div id=\"ec08718e-4292-4bb9-b86f-00cbc019e4f0\" class=\"plotly-graph-div\" style=\"height:500px; width:800px;\"></div>            <script type=\"text/javascript\">                require([\"plotly\"], function(Plotly) {                    window.PLOTLYENV=window.PLOTLYENV || {};                                    if (document.getElementById(\"ec08718e-4292-4bb9-b86f-00cbc019e4f0\")) {                    Plotly.newPlot(                        \"ec08718e-4292-4bb9-b86f-00cbc019e4f0\",                        [{\"alignmentgroup\":\"True\",\"bingroup\":\"x\",\"hovertemplate\":\"x=%{x}<br>count=%{y}<extra></extra>\",\"legendgroup\":\"\",\"marker\":{\"color\":\"#636efa\",\"pattern\":{\"shape\":\"\"}},\"name\":\"\",\"offsetgroup\":\"\",\"orientation\":\"v\",\"showlegend\":false,\"x\":[100.0,100.0,100.0,100.0,100.0,100.0,100.0,100.0,100.0,100.0,100.0,100.0,100.0,100.0,100.0,110.0,110.0,99.0,110.0,102.7,88.0,90.0,90.0,90.0,90.0,90.0,90.0,90.0,90.0,90.0,90.0,90.0,90.0,90.0,90.0,89.6,90.0,90.0,95.8,90.0,90.0,90.0,90.7,92.8,94.4,89.6,91.4,90.0,90.0,90.0,90.0,90.0,90.0,90.0,100.0,100.0,100.0,100.0,100.0,100.0,101.9,106.7,100.0,100.0,100.0,100.0,100.0,100.0,100.0,100.0,100.0,100.0,100.0,100.0,86.7,100.0,66.7,100.0,100.0,100.0,100.0,100.0,100.0,100.0,100.0,100.0,100.0,100.0,100.0,100.0,100.0,100.0,100.0,100.0,100.0,100.0,100.0,100.0,100.0,100.0,100.0,100.0,100.0,100.0,99.9,99.9,99.9,99.9,99.9,99.9,99.9,99.9,99.9,99.9,99.9,99.9,99.9,99.9,99.9,99.9,99.9,99.9,99.9,99.9,99.9,99.9,99.9,99.9,99.9,99.9,99.9,99.9,99.9,99.9,99.9,99.9,99.9,99.9,99.9,99.9,99.9,99.9,103.7,99.9,99.9,99.9,99.9,99.9,99.9,99.9,98.2,99.9,99.9,99.9,99.9,99.9,99.9,99.9,99.9,99.9,99.9,99.9,99.9,99.9,99.9,99.9,99.9,99.9,99.9,99.9,99.9,99.9,99.9,99.9,99.9,120.0,99.3,96.6,99.9,99.9,99.9,99.9,99.9,99.9,99.9,99.9,99.9,99.9,102.7,101.2,110.2,103.1,107.5,95.3,95.7,96.1,99.5,99.4,101.6,108.2,102.4,99.9,75.0,105.0,103.3,103.3,109.2,96.7,102.5,85.0,102.5,78.8,112.1,104.7,102.5,83.1,88.2,89.4,104.3,95.0,102.5,107.0,100.6,105.0,110.0,105.0,93.0,92.0,89.0,91.5,105.0,105.0,105.0,105.0,101.5,102.0,105.0,105.0,97.0,97.0,97.0,97.0,97.0,105.0,105.0,105.0,105.0,105.0,105.0,105.0,105.0,105.0,105.0,104.9,105.0,114.9,105.0,105.0,105.0,97.0,98.8,91.1,93.2,94.7,91.2,86.8,105.0,105.0,103.0,105.9,112.8,109.7,98.1,105.0,105.0,105.0,102.4,105.0,73.2,105.0,105.0,105.0,105.0,105.1,77.7,105.0,105.0,105.0,103.3,105.0,99.7,99.3,105.0,105.0,97.5,91.1,99.9,100.2,95.4,101.2,100.2,91.8,101.7,98.6,12.3,102.0,107.9,97.5,101.9,97.5,97.5,103.0,105.0,105.0,105.0,105.0,105.0,105.0,105.0,105.0,105.0,105.0,97.4,97.4,99.8,89.3,98.0,95.0,97.4,92.5,97.0,94.6,95.1,98.8,77.7,73.0,73.0,97.4,92.0,97.4,93.8,90.7,97.4,97.4,97.4,97.4,97.4,97.4,97.4,97.4,90.0,90.0,90.0,90.0,90.0,90.0,97.4,90.0,90.0,90.0,90.0,90.0,90.0,90.0,90.0,90.0,90.0,90.0,90.0,90.0,90.0,90.0,90.0,90.0,90.0,90.0,90.0,90.0,90.0,90.0,90.0,90.0,89.9,89.9,90.0,75.0,75.0,79.5,78.3,80.0,80.0,80.0,80.0,80.0,80.0,80.0,80.0,80.0,80.0,80.0,80.0,80.0,86.4,80.0,80.0,80.0,80.0,82.6,85.1,82.4,80.0,80.0,80.0,80.0,80.0],\"xaxis\":\"x\",\"yaxis\":\"y\",\"type\":\"histogram\"}],                        {\"template\":{\"data\":{\"barpolar\":[{\"marker\":{\"line\":{\"color\":\"white\",\"width\":0.5},\"pattern\":{\"fillmode\":\"overlay\",\"size\":10,\"solidity\":0.2}},\"type\":\"barpolar\"}],\"bar\":[{\"error_x\":{\"color\":\"#2a3f5f\"},\"error_y\":{\"color\":\"#2a3f5f\"},\"marker\":{\"line\":{\"color\":\"white\",\"width\":0.5},\"pattern\":{\"fillmode\":\"overlay\",\"size\":10,\"solidity\":0.2}},\"type\":\"bar\"}],\"carpet\":[{\"aaxis\":{\"endlinecolor\":\"#2a3f5f\",\"gridcolor\":\"#C8D4E3\",\"linecolor\":\"#C8D4E3\",\"minorgridcolor\":\"#C8D4E3\",\"startlinecolor\":\"#2a3f5f\"},\"baxis\":{\"endlinecolor\":\"#2a3f5f\",\"gridcolor\":\"#C8D4E3\",\"linecolor\":\"#C8D4E3\",\"minorgridcolor\":\"#C8D4E3\",\"startlinecolor\":\"#2a3f5f\"},\"type\":\"carpet\"}],\"choropleth\":[{\"colorbar\":{\"outlinewidth\":0,\"ticks\":\"\"},\"type\":\"choropleth\"}],\"contourcarpet\":[{\"colorbar\":{\"outlinewidth\":0,\"ticks\":\"\"},\"type\":\"contourcarpet\"}],\"contour\":[{\"colorbar\":{\"outlinewidth\":0,\"ticks\":\"\"},\"colorscale\":[[0.0,\"#0d0887\"],[0.1111111111111111,\"#46039f\"],[0.2222222222222222,\"#7201a8\"],[0.3333333333333333,\"#9c179e\"],[0.4444444444444444,\"#bd3786\"],[0.5555555555555556,\"#d8576b\"],[0.6666666666666666,\"#ed7953\"],[0.7777777777777778,\"#fb9f3a\"],[0.8888888888888888,\"#fdca26\"],[1.0,\"#f0f921\"]],\"type\":\"contour\"}],\"heatmapgl\":[{\"colorbar\":{\"outlinewidth\":0,\"ticks\":\"\"},\"colorscale\":[[0.0,\"#0d0887\"],[0.1111111111111111,\"#46039f\"],[0.2222222222222222,\"#7201a8\"],[0.3333333333333333,\"#9c179e\"],[0.4444444444444444,\"#bd3786\"],[0.5555555555555556,\"#d8576b\"],[0.6666666666666666,\"#ed7953\"],[0.7777777777777778,\"#fb9f3a\"],[0.8888888888888888,\"#fdca26\"],[1.0,\"#f0f921\"]],\"type\":\"heatmapgl\"}],\"heatmap\":[{\"colorbar\":{\"outlinewidth\":0,\"ticks\":\"\"},\"colorscale\":[[0.0,\"#0d0887\"],[0.1111111111111111,\"#46039f\"],[0.2222222222222222,\"#7201a8\"],[0.3333333333333333,\"#9c179e\"],[0.4444444444444444,\"#bd3786\"],[0.5555555555555556,\"#d8576b\"],[0.6666666666666666,\"#ed7953\"],[0.7777777777777778,\"#fb9f3a\"],[0.8888888888888888,\"#fdca26\"],[1.0,\"#f0f921\"]],\"type\":\"heatmap\"}],\"histogram2dcontour\":[{\"colorbar\":{\"outlinewidth\":0,\"ticks\":\"\"},\"colorscale\":[[0.0,\"#0d0887\"],[0.1111111111111111,\"#46039f\"],[0.2222222222222222,\"#7201a8\"],[0.3333333333333333,\"#9c179e\"],[0.4444444444444444,\"#bd3786\"],[0.5555555555555556,\"#d8576b\"],[0.6666666666666666,\"#ed7953\"],[0.7777777777777778,\"#fb9f3a\"],[0.8888888888888888,\"#fdca26\"],[1.0,\"#f0f921\"]],\"type\":\"histogram2dcontour\"}],\"histogram2d\":[{\"colorbar\":{\"outlinewidth\":0,\"ticks\":\"\"},\"colorscale\":[[0.0,\"#0d0887\"],[0.1111111111111111,\"#46039f\"],[0.2222222222222222,\"#7201a8\"],[0.3333333333333333,\"#9c179e\"],[0.4444444444444444,\"#bd3786\"],[0.5555555555555556,\"#d8576b\"],[0.6666666666666666,\"#ed7953\"],[0.7777777777777778,\"#fb9f3a\"],[0.8888888888888888,\"#fdca26\"],[1.0,\"#f0f921\"]],\"type\":\"histogram2d\"}],\"histogram\":[{\"marker\":{\"pattern\":{\"fillmode\":\"overlay\",\"size\":10,\"solidity\":0.2}},\"type\":\"histogram\"}],\"mesh3d\":[{\"colorbar\":{\"outlinewidth\":0,\"ticks\":\"\"},\"type\":\"mesh3d\"}],\"parcoords\":[{\"line\":{\"colorbar\":{\"outlinewidth\":0,\"ticks\":\"\"}},\"type\":\"parcoords\"}],\"pie\":[{\"automargin\":true,\"type\":\"pie\"}],\"scatter3d\":[{\"line\":{\"colorbar\":{\"outlinewidth\":0,\"ticks\":\"\"}},\"marker\":{\"colorbar\":{\"outlinewidth\":0,\"ticks\":\"\"}},\"type\":\"scatter3d\"}],\"scattercarpet\":[{\"marker\":{\"colorbar\":{\"outlinewidth\":0,\"ticks\":\"\"}},\"type\":\"scattercarpet\"}],\"scattergeo\":[{\"marker\":{\"colorbar\":{\"outlinewidth\":0,\"ticks\":\"\"}},\"type\":\"scattergeo\"}],\"scattergl\":[{\"marker\":{\"colorbar\":{\"outlinewidth\":0,\"ticks\":\"\"}},\"type\":\"scattergl\"}],\"scattermapbox\":[{\"marker\":{\"colorbar\":{\"outlinewidth\":0,\"ticks\":\"\"}},\"type\":\"scattermapbox\"}],\"scatterpolargl\":[{\"marker\":{\"colorbar\":{\"outlinewidth\":0,\"ticks\":\"\"}},\"type\":\"scatterpolargl\"}],\"scatterpolar\":[{\"marker\":{\"colorbar\":{\"outlinewidth\":0,\"ticks\":\"\"}},\"type\":\"scatterpolar\"}],\"scatter\":[{\"marker\":{\"colorbar\":{\"outlinewidth\":0,\"ticks\":\"\"}},\"type\":\"scatter\"}],\"scatterternary\":[{\"marker\":{\"colorbar\":{\"outlinewidth\":0,\"ticks\":\"\"}},\"type\":\"scatterternary\"}],\"surface\":[{\"colorbar\":{\"outlinewidth\":0,\"ticks\":\"\"},\"colorscale\":[[0.0,\"#0d0887\"],[0.1111111111111111,\"#46039f\"],[0.2222222222222222,\"#7201a8\"],[0.3333333333333333,\"#9c179e\"],[0.4444444444444444,\"#bd3786\"],[0.5555555555555556,\"#d8576b\"],[0.6666666666666666,\"#ed7953\"],[0.7777777777777778,\"#fb9f3a\"],[0.8888888888888888,\"#fdca26\"],[1.0,\"#f0f921\"]],\"type\":\"surface\"}],\"table\":[{\"cells\":{\"fill\":{\"color\":\"#EBF0F8\"},\"line\":{\"color\":\"white\"}},\"header\":{\"fill\":{\"color\":\"#C8D4E3\"},\"line\":{\"color\":\"white\"}},\"type\":\"table\"}]},\"layout\":{\"annotationdefaults\":{\"arrowcolor\":\"#2a3f5f\",\"arrowhead\":0,\"arrowwidth\":1},\"autotypenumbers\":\"strict\",\"coloraxis\":{\"colorbar\":{\"outlinewidth\":0,\"ticks\":\"\"}},\"colorscale\":{\"diverging\":[[0,\"#8e0152\"],[0.1,\"#c51b7d\"],[0.2,\"#de77ae\"],[0.3,\"#f1b6da\"],[0.4,\"#fde0ef\"],[0.5,\"#f7f7f7\"],[0.6,\"#e6f5d0\"],[0.7,\"#b8e186\"],[0.8,\"#7fbc41\"],[0.9,\"#4d9221\"],[1,\"#276419\"]],\"sequential\":[[0.0,\"#0d0887\"],[0.1111111111111111,\"#46039f\"],[0.2222222222222222,\"#7201a8\"],[0.3333333333333333,\"#9c179e\"],[0.4444444444444444,\"#bd3786\"],[0.5555555555555556,\"#d8576b\"],[0.6666666666666666,\"#ed7953\"],[0.7777777777777778,\"#fb9f3a\"],[0.8888888888888888,\"#fdca26\"],[1.0,\"#f0f921\"]],\"sequentialminus\":[[0.0,\"#0d0887\"],[0.1111111111111111,\"#46039f\"],[0.2222222222222222,\"#7201a8\"],[0.3333333333333333,\"#9c179e\"],[0.4444444444444444,\"#bd3786\"],[0.5555555555555556,\"#d8576b\"],[0.6666666666666666,\"#ed7953\"],[0.7777777777777778,\"#fb9f3a\"],[0.8888888888888888,\"#fdca26\"],[1.0,\"#f0f921\"]]},\"colorway\":[\"#636efa\",\"#EF553B\",\"#00cc96\",\"#ab63fa\",\"#FFA15A\",\"#19d3f3\",\"#FF6692\",\"#B6E880\",\"#FF97FF\",\"#FECB52\"],\"font\":{\"color\":\"#2a3f5f\"},\"geo\":{\"bgcolor\":\"white\",\"lakecolor\":\"white\",\"landcolor\":\"white\",\"showlakes\":true,\"showland\":true,\"subunitcolor\":\"#C8D4E3\"},\"hoverlabel\":{\"align\":\"left\"},\"hovermode\":\"closest\",\"mapbox\":{\"style\":\"light\"},\"paper_bgcolor\":\"white\",\"plot_bgcolor\":\"white\",\"polar\":{\"angularaxis\":{\"gridcolor\":\"#EBF0F8\",\"linecolor\":\"#EBF0F8\",\"ticks\":\"\"},\"bgcolor\":\"white\",\"radialaxis\":{\"gridcolor\":\"#EBF0F8\",\"linecolor\":\"#EBF0F8\",\"ticks\":\"\"}},\"scene\":{\"xaxis\":{\"backgroundcolor\":\"white\",\"gridcolor\":\"#DFE8F3\",\"gridwidth\":2,\"linecolor\":\"#EBF0F8\",\"showbackground\":true,\"ticks\":\"\",\"zerolinecolor\":\"#EBF0F8\"},\"yaxis\":{\"backgroundcolor\":\"white\",\"gridcolor\":\"#DFE8F3\",\"gridwidth\":2,\"linecolor\":\"#EBF0F8\",\"showbackground\":true,\"ticks\":\"\",\"zerolinecolor\":\"#EBF0F8\"},\"zaxis\":{\"backgroundcolor\":\"white\",\"gridcolor\":\"#DFE8F3\",\"gridwidth\":2,\"linecolor\":\"#EBF0F8\",\"showbackground\":true,\"ticks\":\"\",\"zerolinecolor\":\"#EBF0F8\"}},\"shapedefaults\":{\"line\":{\"color\":\"#2a3f5f\"}},\"ternary\":{\"aaxis\":{\"gridcolor\":\"#DFE8F3\",\"linecolor\":\"#A2B1C6\",\"ticks\":\"\"},\"baxis\":{\"gridcolor\":\"#DFE8F3\",\"linecolor\":\"#A2B1C6\",\"ticks\":\"\"},\"bgcolor\":\"white\",\"caxis\":{\"gridcolor\":\"#DFE8F3\",\"linecolor\":\"#A2B1C6\",\"ticks\":\"\"}},\"title\":{\"x\":0.05},\"xaxis\":{\"automargin\":true,\"gridcolor\":\"#EBF0F8\",\"linecolor\":\"#EBF0F8\",\"ticks\":\"\",\"title\":{\"standoff\":15},\"zerolinecolor\":\"#EBF0F8\",\"zerolinewidth\":2},\"yaxis\":{\"automargin\":true,\"gridcolor\":\"#EBF0F8\",\"linecolor\":\"#EBF0F8\",\"ticks\":\"\",\"title\":{\"standoff\":15},\"zerolinecolor\":\"#EBF0F8\",\"zerolinewidth\":2}}},\"xaxis\":{\"anchor\":\"y\",\"domain\":[0.0,1.0],\"title\":{\"text\":\"Representative price\"},\"tickprefix\":\"$\",\"showgrid\":false},\"yaxis\":{\"anchor\":\"x\",\"domain\":[0.0,1.0],\"title\":{\"text\":\"count\"},\"showgrid\":false},\"legend\":{\"tracegroupgap\":0},\"margin\":{\"t\":60},\"barmode\":\"relative\",\"title\":{\"text\":\"Price distribution of product_id 6659232268360 - The Staple 6-Pack \"},\"showlegend\":false,\"height\":500,\"width\":800},                        {\"responsive\": true}                    ).then(function(){\n",
       "                            \n",
       "var gd = document.getElementById('ec08718e-4292-4bb9-b86f-00cbc019e4f0');\n",
       "var x = new MutationObserver(function (mutations, observer) {{\n",
       "        var display = window.getComputedStyle(gd).display;\n",
       "        if (!display || display === 'none') {{\n",
       "            console.log([gd, 'removed!']);\n",
       "            Plotly.purge(gd);\n",
       "            observer.disconnect();\n",
       "        }}\n",
       "}});\n",
       "\n",
       "// Listen for the removal of the full notebook cells\n",
       "var notebookContainer = gd.closest('#notebook-container');\n",
       "if (notebookContainer) {{\n",
       "    x.observe(notebookContainer, {childList: true});\n",
       "}}\n",
       "\n",
       "// Listen for the clearing of the current output cell\n",
       "var outputEl = gd.closest('.output');\n",
       "if (outputEl) {{\n",
       "    x.observe(outputEl, {childList: true});\n",
       "}}\n",
       "\n",
       "                        })                };                });            </script>        </div>"
      ]
     },
     "metadata": {},
     "output_type": "display_data"
    }
   ],
   "source": [
    "fig = px.histogram(x=data['representative_price'])\n",
    "fig.update_xaxes(tickprefix=\"$\", title = 'Representative price')\n",
    "\n",
    "\n",
    "fig.update_layout(template = 'plotly_white',\n",
    "                  xaxis=dict(showgrid=False), \n",
    "                  yaxis=dict(showgrid=False), \n",
    "                  title = f'Price distribution of product_id {PRODUCT_ID} - {PRODUCT_TITLE} ',\n",
    "                  showlegend=False, height=500, width=800)\n",
    "\n",
    "fig.show()\n"
   ]
  },
  {
   "cell_type": "code",
   "execution_count": 21,
   "id": "77cd8c3f",
   "metadata": {},
   "outputs": [
    {
     "data": {
      "application/vnd.plotly.v1+json": {
       "config": {
        "plotlyServerURL": "https://plot.ly"
       },
       "data": [
        {
         "alignmentgroup": "True",
         "bingroup": "x",
         "hovertemplate": "x=%{x}<br>count=%{y}<extra></extra>",
         "legendgroup": "",
         "marker": {
          "color": "#636efa",
          "pattern": {
           "shape": ""
          }
         },
         "name": "",
         "offsetgroup": "",
         "orientation": "v",
         "showlegend": false,
         "type": "histogram",
         "x": [
          1413,
          3598,
          3718,
          4337,
          3399,
          3139,
          3226,
          3533,
          3444,
          3604,
          4177,
          3678,
          3783,
          3603,
          3331,
          2818,
          3004,
          2999,
          2466,
          3004,
          3851,
          8220,
          6458,
          6322,
          7374,
          5796,
          4979,
          4034,
          3913,
          4705,
          5390,
          6374,
          5052,
          4413,
          3849,
          5849,
          5551,
          7024,
          7677,
          5364,
          4841,
          5183,
          8449,
          17424,
          11402,
          15805,
          17213,
          6788,
          4987,
          3391,
          3828,
          4451,
          5465,
          4895,
          3645,
          4559,
          4896,
          4449,
          4034,
          5290,
          5277,
          4658,
          3912,
          6183,
          3900,
          4716,
          4893,
          3315,
          1658,
          1739,
          1454,
          1449,
          1358,
          1816,
          3974,
          3110,
          1749,
          2359,
          2409,
          2302,
          3149,
          3625,
          2204,
          2001,
          1682,
          2430,
          2707,
          3014,
          2430,
          2544,
          2608,
          2973,
          2947,
          3792,
          4873,
          4952,
          4997,
          5332,
          3980,
          3474,
          3792,
          5215,
          4675,
          3794,
          3674,
          3334,
          3448,
          4131,
          4969,
          3926,
          3908,
          4069,
          4379,
          4192,
          5031,
          5521,
          4594,
          4444,
          4184,
          4365,
          4435,
          5412,
          6572,
          5568,
          4551,
          6108,
          6340,
          6892,
          9246,
          11374,
          8857,
          7029,
          5521,
          5368,
          4587,
          5512,
          7034,
          6257,
          5763,
          6351,
          5423,
          5952,
          7391,
          8135,
          6036,
          5892,
          5460,
          5459,
          5552,
          6701,
          7548,
          6168,
          5535,
          5368,
          6644,
          4862,
          6173,
          7635,
          5440,
          5516,
          4990,
          5057,
          5737,
          7403,
          8208,
          6146,
          6418,
          5556,
          5200,
          5153,
          7226,
          9435,
          7287,
          6302,
          6625,
          7343,
          6238,
          6362,
          7213,
          5579,
          5156,
          5204,
          6105,
          6099,
          9956,
          13919,
          7146,
          4661,
          3843,
          4009,
          5108,
          4410,
          4394,
          4967,
          4572,
          3914,
          3566,
          3726,
          6102,
          6519,
          5367,
          4419,
          3989,
          4240,
          3786,
          4770,
          6042,
          5101,
          4609,
          5542,
          4481,
          4464,
          4747,
          6436,
          4979,
          5389,
          4432,
          4188,
          4245,
          5343,
          6734,
          5660,
          5903,
          6113,
          6263,
          7279,
          10507,
          13326,
          16761,
          8941,
          6201,
          4612,
          3993,
          5501,
          5956,
          4434,
          5113,
          5179,
          5055,
          4701,
          5681,
          7382,
          6328,
          5108,
          4763,
          3906,
          3787,
          4371,
          5650,
          4699,
          3780,
          3508,
          4121,
          3618,
          3816,
          5167,
          4233,
          4541,
          3928,
          6864,
          6127,
          8830,
          10037,
          8990,
          9101,
          7185,
          4239,
          3885,
          5006,
          5962,
          4783,
          6659,
          6820,
          4325,
          4265,
          4817,
          5562,
          4175,
          4243,
          3494,
          3210,
          3374,
          3864,
          4822,
          3442,
          3125,
          3059,
          3784,
          3674,
          5006,
          5911,
          4354,
          4037,
          3790,
          3736,
          3625,
          4577,
          5799,
          3805,
          3938,
          3843,
          4015,
          5372,
          5456,
          6922,
          4528,
          4125,
          3745,
          4050,
          7112,
          8466,
          9342,
          4673,
          4410,
          4375,
          3814,
          3558,
          4486,
          5925,
          4038,
          3416,
          3676,
          5274,
          4986,
          7945,
          9198,
          8347,
          5252,
          3442,
          3236,
          3188,
          4232,
          5359,
          3810,
          3308,
          3070,
          2892,
          2966,
          3618,
          4420,
          3379,
          3033,
          2939,
          2839,
          2655,
          3022,
          3971,
          3223,
          2549,
          2654,
          3567,
          4105,
          4930,
          6339,
          3944,
          3776,
          3232,
          2837,
          2754,
          2758,
          3605,
          2955,
          2476,
          2654,
          2705,
          2616,
          3199,
          3903,
          2811,
          2822,
          3139,
          3024,
          2788,
          2857,
          3422,
          3326,
          2604,
          2839,
          2685,
          2906,
          2719,
          3198,
          2467,
          2131,
          2276,
          6194,
          5901,
          7927,
          11723,
          6486,
          5156,
          4018,
          3368,
          3698,
          4243,
          5741,
          3963,
          3286,
          3655,
          4598,
          6896,
          6127,
          8226,
          11921,
          6073,
          7076,
          12250,
          22956,
          9825,
          8981,
          11714,
          7678,
          4235,
          3603,
          3498
         ],
         "xaxis": "x",
         "yaxis": "y"
        }
       ],
       "layout": {
        "barmode": "relative",
        "height": 500,
        "legend": {
         "tracegroupgap": 0
        },
        "margin": {
         "t": 60
        },
        "showlegend": false,
        "template": {
         "data": {
          "bar": [
           {
            "error_x": {
             "color": "#2a3f5f"
            },
            "error_y": {
             "color": "#2a3f5f"
            },
            "marker": {
             "line": {
              "color": "white",
              "width": 0.5
             },
             "pattern": {
              "fillmode": "overlay",
              "size": 10,
              "solidity": 0.2
             }
            },
            "type": "bar"
           }
          ],
          "barpolar": [
           {
            "marker": {
             "line": {
              "color": "white",
              "width": 0.5
             },
             "pattern": {
              "fillmode": "overlay",
              "size": 10,
              "solidity": 0.2
             }
            },
            "type": "barpolar"
           }
          ],
          "carpet": [
           {
            "aaxis": {
             "endlinecolor": "#2a3f5f",
             "gridcolor": "#C8D4E3",
             "linecolor": "#C8D4E3",
             "minorgridcolor": "#C8D4E3",
             "startlinecolor": "#2a3f5f"
            },
            "baxis": {
             "endlinecolor": "#2a3f5f",
             "gridcolor": "#C8D4E3",
             "linecolor": "#C8D4E3",
             "minorgridcolor": "#C8D4E3",
             "startlinecolor": "#2a3f5f"
            },
            "type": "carpet"
           }
          ],
          "choropleth": [
           {
            "colorbar": {
             "outlinewidth": 0,
             "ticks": ""
            },
            "type": "choropleth"
           }
          ],
          "contour": [
           {
            "colorbar": {
             "outlinewidth": 0,
             "ticks": ""
            },
            "colorscale": [
             [
              0,
              "#0d0887"
             ],
             [
              0.1111111111111111,
              "#46039f"
             ],
             [
              0.2222222222222222,
              "#7201a8"
             ],
             [
              0.3333333333333333,
              "#9c179e"
             ],
             [
              0.4444444444444444,
              "#bd3786"
             ],
             [
              0.5555555555555556,
              "#d8576b"
             ],
             [
              0.6666666666666666,
              "#ed7953"
             ],
             [
              0.7777777777777778,
              "#fb9f3a"
             ],
             [
              0.8888888888888888,
              "#fdca26"
             ],
             [
              1,
              "#f0f921"
             ]
            ],
            "type": "contour"
           }
          ],
          "contourcarpet": [
           {
            "colorbar": {
             "outlinewidth": 0,
             "ticks": ""
            },
            "type": "contourcarpet"
           }
          ],
          "heatmap": [
           {
            "colorbar": {
             "outlinewidth": 0,
             "ticks": ""
            },
            "colorscale": [
             [
              0,
              "#0d0887"
             ],
             [
              0.1111111111111111,
              "#46039f"
             ],
             [
              0.2222222222222222,
              "#7201a8"
             ],
             [
              0.3333333333333333,
              "#9c179e"
             ],
             [
              0.4444444444444444,
              "#bd3786"
             ],
             [
              0.5555555555555556,
              "#d8576b"
             ],
             [
              0.6666666666666666,
              "#ed7953"
             ],
             [
              0.7777777777777778,
              "#fb9f3a"
             ],
             [
              0.8888888888888888,
              "#fdca26"
             ],
             [
              1,
              "#f0f921"
             ]
            ],
            "type": "heatmap"
           }
          ],
          "heatmapgl": [
           {
            "colorbar": {
             "outlinewidth": 0,
             "ticks": ""
            },
            "colorscale": [
             [
              0,
              "#0d0887"
             ],
             [
              0.1111111111111111,
              "#46039f"
             ],
             [
              0.2222222222222222,
              "#7201a8"
             ],
             [
              0.3333333333333333,
              "#9c179e"
             ],
             [
              0.4444444444444444,
              "#bd3786"
             ],
             [
              0.5555555555555556,
              "#d8576b"
             ],
             [
              0.6666666666666666,
              "#ed7953"
             ],
             [
              0.7777777777777778,
              "#fb9f3a"
             ],
             [
              0.8888888888888888,
              "#fdca26"
             ],
             [
              1,
              "#f0f921"
             ]
            ],
            "type": "heatmapgl"
           }
          ],
          "histogram": [
           {
            "marker": {
             "pattern": {
              "fillmode": "overlay",
              "size": 10,
              "solidity": 0.2
             }
            },
            "type": "histogram"
           }
          ],
          "histogram2d": [
           {
            "colorbar": {
             "outlinewidth": 0,
             "ticks": ""
            },
            "colorscale": [
             [
              0,
              "#0d0887"
             ],
             [
              0.1111111111111111,
              "#46039f"
             ],
             [
              0.2222222222222222,
              "#7201a8"
             ],
             [
              0.3333333333333333,
              "#9c179e"
             ],
             [
              0.4444444444444444,
              "#bd3786"
             ],
             [
              0.5555555555555556,
              "#d8576b"
             ],
             [
              0.6666666666666666,
              "#ed7953"
             ],
             [
              0.7777777777777778,
              "#fb9f3a"
             ],
             [
              0.8888888888888888,
              "#fdca26"
             ],
             [
              1,
              "#f0f921"
             ]
            ],
            "type": "histogram2d"
           }
          ],
          "histogram2dcontour": [
           {
            "colorbar": {
             "outlinewidth": 0,
             "ticks": ""
            },
            "colorscale": [
             [
              0,
              "#0d0887"
             ],
             [
              0.1111111111111111,
              "#46039f"
             ],
             [
              0.2222222222222222,
              "#7201a8"
             ],
             [
              0.3333333333333333,
              "#9c179e"
             ],
             [
              0.4444444444444444,
              "#bd3786"
             ],
             [
              0.5555555555555556,
              "#d8576b"
             ],
             [
              0.6666666666666666,
              "#ed7953"
             ],
             [
              0.7777777777777778,
              "#fb9f3a"
             ],
             [
              0.8888888888888888,
              "#fdca26"
             ],
             [
              1,
              "#f0f921"
             ]
            ],
            "type": "histogram2dcontour"
           }
          ],
          "mesh3d": [
           {
            "colorbar": {
             "outlinewidth": 0,
             "ticks": ""
            },
            "type": "mesh3d"
           }
          ],
          "parcoords": [
           {
            "line": {
             "colorbar": {
              "outlinewidth": 0,
              "ticks": ""
             }
            },
            "type": "parcoords"
           }
          ],
          "pie": [
           {
            "automargin": true,
            "type": "pie"
           }
          ],
          "scatter": [
           {
            "marker": {
             "colorbar": {
              "outlinewidth": 0,
              "ticks": ""
             }
            },
            "type": "scatter"
           }
          ],
          "scatter3d": [
           {
            "line": {
             "colorbar": {
              "outlinewidth": 0,
              "ticks": ""
             }
            },
            "marker": {
             "colorbar": {
              "outlinewidth": 0,
              "ticks": ""
             }
            },
            "type": "scatter3d"
           }
          ],
          "scattercarpet": [
           {
            "marker": {
             "colorbar": {
              "outlinewidth": 0,
              "ticks": ""
             }
            },
            "type": "scattercarpet"
           }
          ],
          "scattergeo": [
           {
            "marker": {
             "colorbar": {
              "outlinewidth": 0,
              "ticks": ""
             }
            },
            "type": "scattergeo"
           }
          ],
          "scattergl": [
           {
            "marker": {
             "colorbar": {
              "outlinewidth": 0,
              "ticks": ""
             }
            },
            "type": "scattergl"
           }
          ],
          "scattermapbox": [
           {
            "marker": {
             "colorbar": {
              "outlinewidth": 0,
              "ticks": ""
             }
            },
            "type": "scattermapbox"
           }
          ],
          "scatterpolar": [
           {
            "marker": {
             "colorbar": {
              "outlinewidth": 0,
              "ticks": ""
             }
            },
            "type": "scatterpolar"
           }
          ],
          "scatterpolargl": [
           {
            "marker": {
             "colorbar": {
              "outlinewidth": 0,
              "ticks": ""
             }
            },
            "type": "scatterpolargl"
           }
          ],
          "scatterternary": [
           {
            "marker": {
             "colorbar": {
              "outlinewidth": 0,
              "ticks": ""
             }
            },
            "type": "scatterternary"
           }
          ],
          "surface": [
           {
            "colorbar": {
             "outlinewidth": 0,
             "ticks": ""
            },
            "colorscale": [
             [
              0,
              "#0d0887"
             ],
             [
              0.1111111111111111,
              "#46039f"
             ],
             [
              0.2222222222222222,
              "#7201a8"
             ],
             [
              0.3333333333333333,
              "#9c179e"
             ],
             [
              0.4444444444444444,
              "#bd3786"
             ],
             [
              0.5555555555555556,
              "#d8576b"
             ],
             [
              0.6666666666666666,
              "#ed7953"
             ],
             [
              0.7777777777777778,
              "#fb9f3a"
             ],
             [
              0.8888888888888888,
              "#fdca26"
             ],
             [
              1,
              "#f0f921"
             ]
            ],
            "type": "surface"
           }
          ],
          "table": [
           {
            "cells": {
             "fill": {
              "color": "#EBF0F8"
             },
             "line": {
              "color": "white"
             }
            },
            "header": {
             "fill": {
              "color": "#C8D4E3"
             },
             "line": {
              "color": "white"
             }
            },
            "type": "table"
           }
          ]
         },
         "layout": {
          "annotationdefaults": {
           "arrowcolor": "#2a3f5f",
           "arrowhead": 0,
           "arrowwidth": 1
          },
          "autotypenumbers": "strict",
          "coloraxis": {
           "colorbar": {
            "outlinewidth": 0,
            "ticks": ""
           }
          },
          "colorscale": {
           "diverging": [
            [
             0,
             "#8e0152"
            ],
            [
             0.1,
             "#c51b7d"
            ],
            [
             0.2,
             "#de77ae"
            ],
            [
             0.3,
             "#f1b6da"
            ],
            [
             0.4,
             "#fde0ef"
            ],
            [
             0.5,
             "#f7f7f7"
            ],
            [
             0.6,
             "#e6f5d0"
            ],
            [
             0.7,
             "#b8e186"
            ],
            [
             0.8,
             "#7fbc41"
            ],
            [
             0.9,
             "#4d9221"
            ],
            [
             1,
             "#276419"
            ]
           ],
           "sequential": [
            [
             0,
             "#0d0887"
            ],
            [
             0.1111111111111111,
             "#46039f"
            ],
            [
             0.2222222222222222,
             "#7201a8"
            ],
            [
             0.3333333333333333,
             "#9c179e"
            ],
            [
             0.4444444444444444,
             "#bd3786"
            ],
            [
             0.5555555555555556,
             "#d8576b"
            ],
            [
             0.6666666666666666,
             "#ed7953"
            ],
            [
             0.7777777777777778,
             "#fb9f3a"
            ],
            [
             0.8888888888888888,
             "#fdca26"
            ],
            [
             1,
             "#f0f921"
            ]
           ],
           "sequentialminus": [
            [
             0,
             "#0d0887"
            ],
            [
             0.1111111111111111,
             "#46039f"
            ],
            [
             0.2222222222222222,
             "#7201a8"
            ],
            [
             0.3333333333333333,
             "#9c179e"
            ],
            [
             0.4444444444444444,
             "#bd3786"
            ],
            [
             0.5555555555555556,
             "#d8576b"
            ],
            [
             0.6666666666666666,
             "#ed7953"
            ],
            [
             0.7777777777777778,
             "#fb9f3a"
            ],
            [
             0.8888888888888888,
             "#fdca26"
            ],
            [
             1,
             "#f0f921"
            ]
           ]
          },
          "colorway": [
           "#636efa",
           "#EF553B",
           "#00cc96",
           "#ab63fa",
           "#FFA15A",
           "#19d3f3",
           "#FF6692",
           "#B6E880",
           "#FF97FF",
           "#FECB52"
          ],
          "font": {
           "color": "#2a3f5f"
          },
          "geo": {
           "bgcolor": "white",
           "lakecolor": "white",
           "landcolor": "white",
           "showlakes": true,
           "showland": true,
           "subunitcolor": "#C8D4E3"
          },
          "hoverlabel": {
           "align": "left"
          },
          "hovermode": "closest",
          "mapbox": {
           "style": "light"
          },
          "paper_bgcolor": "white",
          "plot_bgcolor": "white",
          "polar": {
           "angularaxis": {
            "gridcolor": "#EBF0F8",
            "linecolor": "#EBF0F8",
            "ticks": ""
           },
           "bgcolor": "white",
           "radialaxis": {
            "gridcolor": "#EBF0F8",
            "linecolor": "#EBF0F8",
            "ticks": ""
           }
          },
          "scene": {
           "xaxis": {
            "backgroundcolor": "white",
            "gridcolor": "#DFE8F3",
            "gridwidth": 2,
            "linecolor": "#EBF0F8",
            "showbackground": true,
            "ticks": "",
            "zerolinecolor": "#EBF0F8"
           },
           "yaxis": {
            "backgroundcolor": "white",
            "gridcolor": "#DFE8F3",
            "gridwidth": 2,
            "linecolor": "#EBF0F8",
            "showbackground": true,
            "ticks": "",
            "zerolinecolor": "#EBF0F8"
           },
           "zaxis": {
            "backgroundcolor": "white",
            "gridcolor": "#DFE8F3",
            "gridwidth": 2,
            "linecolor": "#EBF0F8",
            "showbackground": true,
            "ticks": "",
            "zerolinecolor": "#EBF0F8"
           }
          },
          "shapedefaults": {
           "line": {
            "color": "#2a3f5f"
           }
          },
          "ternary": {
           "aaxis": {
            "gridcolor": "#DFE8F3",
            "linecolor": "#A2B1C6",
            "ticks": ""
           },
           "baxis": {
            "gridcolor": "#DFE8F3",
            "linecolor": "#A2B1C6",
            "ticks": ""
           },
           "bgcolor": "white",
           "caxis": {
            "gridcolor": "#DFE8F3",
            "linecolor": "#A2B1C6",
            "ticks": ""
           }
          },
          "title": {
           "x": 0.05
          },
          "xaxis": {
           "automargin": true,
           "gridcolor": "#EBF0F8",
           "linecolor": "#EBF0F8",
           "ticks": "",
           "title": {
            "standoff": 15
           },
           "zerolinecolor": "#EBF0F8",
           "zerolinewidth": 2
          },
          "yaxis": {
           "automargin": true,
           "gridcolor": "#EBF0F8",
           "linecolor": "#EBF0F8",
           "ticks": "",
           "title": {
            "standoff": 15
           },
           "zerolinecolor": "#EBF0F8",
           "zerolinewidth": 2
          }
         }
        },
        "title": {
         "text": "views distribution of product_id 6659232268360 - The Staple 6-Pack "
        },
        "width": 800,
        "xaxis": {
         "anchor": "y",
         "domain": [
          0,
          1
         ],
         "showgrid": false,
         "title": {
          "text": "Number of views"
         }
        },
        "yaxis": {
         "anchor": "x",
         "domain": [
          0,
          1
         ],
         "showgrid": false,
         "title": {
          "text": "count"
         }
        }
       }
      },
      "text/html": [
       "<div>                            <div id=\"17204f5d-cc0e-4086-ab1e-aeb064ffc4e7\" class=\"plotly-graph-div\" style=\"height:500px; width:800px;\"></div>            <script type=\"text/javascript\">                require([\"plotly\"], function(Plotly) {                    window.PLOTLYENV=window.PLOTLYENV || {};                                    if (document.getElementById(\"17204f5d-cc0e-4086-ab1e-aeb064ffc4e7\")) {                    Plotly.newPlot(                        \"17204f5d-cc0e-4086-ab1e-aeb064ffc4e7\",                        [{\"alignmentgroup\":\"True\",\"bingroup\":\"x\",\"hovertemplate\":\"x=%{x}<br>count=%{y}<extra></extra>\",\"legendgroup\":\"\",\"marker\":{\"color\":\"#636efa\",\"pattern\":{\"shape\":\"\"}},\"name\":\"\",\"offsetgroup\":\"\",\"orientation\":\"v\",\"showlegend\":false,\"x\":[1413,3598,3718,4337,3399,3139,3226,3533,3444,3604,4177,3678,3783,3603,3331,2818,3004,2999,2466,3004,3851,8220,6458,6322,7374,5796,4979,4034,3913,4705,5390,6374,5052,4413,3849,5849,5551,7024,7677,5364,4841,5183,8449,17424,11402,15805,17213,6788,4987,3391,3828,4451,5465,4895,3645,4559,4896,4449,4034,5290,5277,4658,3912,6183,3900,4716,4893,3315,1658,1739,1454,1449,1358,1816,3974,3110,1749,2359,2409,2302,3149,3625,2204,2001,1682,2430,2707,3014,2430,2544,2608,2973,2947,3792,4873,4952,4997,5332,3980,3474,3792,5215,4675,3794,3674,3334,3448,4131,4969,3926,3908,4069,4379,4192,5031,5521,4594,4444,4184,4365,4435,5412,6572,5568,4551,6108,6340,6892,9246,11374,8857,7029,5521,5368,4587,5512,7034,6257,5763,6351,5423,5952,7391,8135,6036,5892,5460,5459,5552,6701,7548,6168,5535,5368,6644,4862,6173,7635,5440,5516,4990,5057,5737,7403,8208,6146,6418,5556,5200,5153,7226,9435,7287,6302,6625,7343,6238,6362,7213,5579,5156,5204,6105,6099,9956,13919,7146,4661,3843,4009,5108,4410,4394,4967,4572,3914,3566,3726,6102,6519,5367,4419,3989,4240,3786,4770,6042,5101,4609,5542,4481,4464,4747,6436,4979,5389,4432,4188,4245,5343,6734,5660,5903,6113,6263,7279,10507,13326,16761,8941,6201,4612,3993,5501,5956,4434,5113,5179,5055,4701,5681,7382,6328,5108,4763,3906,3787,4371,5650,4699,3780,3508,4121,3618,3816,5167,4233,4541,3928,6864,6127,8830,10037,8990,9101,7185,4239,3885,5006,5962,4783,6659,6820,4325,4265,4817,5562,4175,4243,3494,3210,3374,3864,4822,3442,3125,3059,3784,3674,5006,5911,4354,4037,3790,3736,3625,4577,5799,3805,3938,3843,4015,5372,5456,6922,4528,4125,3745,4050,7112,8466,9342,4673,4410,4375,3814,3558,4486,5925,4038,3416,3676,5274,4986,7945,9198,8347,5252,3442,3236,3188,4232,5359,3810,3308,3070,2892,2966,3618,4420,3379,3033,2939,2839,2655,3022,3971,3223,2549,2654,3567,4105,4930,6339,3944,3776,3232,2837,2754,2758,3605,2955,2476,2654,2705,2616,3199,3903,2811,2822,3139,3024,2788,2857,3422,3326,2604,2839,2685,2906,2719,3198,2467,2131,2276,6194,5901,7927,11723,6486,5156,4018,3368,3698,4243,5741,3963,3286,3655,4598,6896,6127,8226,11921,6073,7076,12250,22956,9825,8981,11714,7678,4235,3603,3498],\"xaxis\":\"x\",\"yaxis\":\"y\",\"type\":\"histogram\"}],                        {\"template\":{\"data\":{\"barpolar\":[{\"marker\":{\"line\":{\"color\":\"white\",\"width\":0.5},\"pattern\":{\"fillmode\":\"overlay\",\"size\":10,\"solidity\":0.2}},\"type\":\"barpolar\"}],\"bar\":[{\"error_x\":{\"color\":\"#2a3f5f\"},\"error_y\":{\"color\":\"#2a3f5f\"},\"marker\":{\"line\":{\"color\":\"white\",\"width\":0.5},\"pattern\":{\"fillmode\":\"overlay\",\"size\":10,\"solidity\":0.2}},\"type\":\"bar\"}],\"carpet\":[{\"aaxis\":{\"endlinecolor\":\"#2a3f5f\",\"gridcolor\":\"#C8D4E3\",\"linecolor\":\"#C8D4E3\",\"minorgridcolor\":\"#C8D4E3\",\"startlinecolor\":\"#2a3f5f\"},\"baxis\":{\"endlinecolor\":\"#2a3f5f\",\"gridcolor\":\"#C8D4E3\",\"linecolor\":\"#C8D4E3\",\"minorgridcolor\":\"#C8D4E3\",\"startlinecolor\":\"#2a3f5f\"},\"type\":\"carpet\"}],\"choropleth\":[{\"colorbar\":{\"outlinewidth\":0,\"ticks\":\"\"},\"type\":\"choropleth\"}],\"contourcarpet\":[{\"colorbar\":{\"outlinewidth\":0,\"ticks\":\"\"},\"type\":\"contourcarpet\"}],\"contour\":[{\"colorbar\":{\"outlinewidth\":0,\"ticks\":\"\"},\"colorscale\":[[0.0,\"#0d0887\"],[0.1111111111111111,\"#46039f\"],[0.2222222222222222,\"#7201a8\"],[0.3333333333333333,\"#9c179e\"],[0.4444444444444444,\"#bd3786\"],[0.5555555555555556,\"#d8576b\"],[0.6666666666666666,\"#ed7953\"],[0.7777777777777778,\"#fb9f3a\"],[0.8888888888888888,\"#fdca26\"],[1.0,\"#f0f921\"]],\"type\":\"contour\"}],\"heatmapgl\":[{\"colorbar\":{\"outlinewidth\":0,\"ticks\":\"\"},\"colorscale\":[[0.0,\"#0d0887\"],[0.1111111111111111,\"#46039f\"],[0.2222222222222222,\"#7201a8\"],[0.3333333333333333,\"#9c179e\"],[0.4444444444444444,\"#bd3786\"],[0.5555555555555556,\"#d8576b\"],[0.6666666666666666,\"#ed7953\"],[0.7777777777777778,\"#fb9f3a\"],[0.8888888888888888,\"#fdca26\"],[1.0,\"#f0f921\"]],\"type\":\"heatmapgl\"}],\"heatmap\":[{\"colorbar\":{\"outlinewidth\":0,\"ticks\":\"\"},\"colorscale\":[[0.0,\"#0d0887\"],[0.1111111111111111,\"#46039f\"],[0.2222222222222222,\"#7201a8\"],[0.3333333333333333,\"#9c179e\"],[0.4444444444444444,\"#bd3786\"],[0.5555555555555556,\"#d8576b\"],[0.6666666666666666,\"#ed7953\"],[0.7777777777777778,\"#fb9f3a\"],[0.8888888888888888,\"#fdca26\"],[1.0,\"#f0f921\"]],\"type\":\"heatmap\"}],\"histogram2dcontour\":[{\"colorbar\":{\"outlinewidth\":0,\"ticks\":\"\"},\"colorscale\":[[0.0,\"#0d0887\"],[0.1111111111111111,\"#46039f\"],[0.2222222222222222,\"#7201a8\"],[0.3333333333333333,\"#9c179e\"],[0.4444444444444444,\"#bd3786\"],[0.5555555555555556,\"#d8576b\"],[0.6666666666666666,\"#ed7953\"],[0.7777777777777778,\"#fb9f3a\"],[0.8888888888888888,\"#fdca26\"],[1.0,\"#f0f921\"]],\"type\":\"histogram2dcontour\"}],\"histogram2d\":[{\"colorbar\":{\"outlinewidth\":0,\"ticks\":\"\"},\"colorscale\":[[0.0,\"#0d0887\"],[0.1111111111111111,\"#46039f\"],[0.2222222222222222,\"#7201a8\"],[0.3333333333333333,\"#9c179e\"],[0.4444444444444444,\"#bd3786\"],[0.5555555555555556,\"#d8576b\"],[0.6666666666666666,\"#ed7953\"],[0.7777777777777778,\"#fb9f3a\"],[0.8888888888888888,\"#fdca26\"],[1.0,\"#f0f921\"]],\"type\":\"histogram2d\"}],\"histogram\":[{\"marker\":{\"pattern\":{\"fillmode\":\"overlay\",\"size\":10,\"solidity\":0.2}},\"type\":\"histogram\"}],\"mesh3d\":[{\"colorbar\":{\"outlinewidth\":0,\"ticks\":\"\"},\"type\":\"mesh3d\"}],\"parcoords\":[{\"line\":{\"colorbar\":{\"outlinewidth\":0,\"ticks\":\"\"}},\"type\":\"parcoords\"}],\"pie\":[{\"automargin\":true,\"type\":\"pie\"}],\"scatter3d\":[{\"line\":{\"colorbar\":{\"outlinewidth\":0,\"ticks\":\"\"}},\"marker\":{\"colorbar\":{\"outlinewidth\":0,\"ticks\":\"\"}},\"type\":\"scatter3d\"}],\"scattercarpet\":[{\"marker\":{\"colorbar\":{\"outlinewidth\":0,\"ticks\":\"\"}},\"type\":\"scattercarpet\"}],\"scattergeo\":[{\"marker\":{\"colorbar\":{\"outlinewidth\":0,\"ticks\":\"\"}},\"type\":\"scattergeo\"}],\"scattergl\":[{\"marker\":{\"colorbar\":{\"outlinewidth\":0,\"ticks\":\"\"}},\"type\":\"scattergl\"}],\"scattermapbox\":[{\"marker\":{\"colorbar\":{\"outlinewidth\":0,\"ticks\":\"\"}},\"type\":\"scattermapbox\"}],\"scatterpolargl\":[{\"marker\":{\"colorbar\":{\"outlinewidth\":0,\"ticks\":\"\"}},\"type\":\"scatterpolargl\"}],\"scatterpolar\":[{\"marker\":{\"colorbar\":{\"outlinewidth\":0,\"ticks\":\"\"}},\"type\":\"scatterpolar\"}],\"scatter\":[{\"marker\":{\"colorbar\":{\"outlinewidth\":0,\"ticks\":\"\"}},\"type\":\"scatter\"}],\"scatterternary\":[{\"marker\":{\"colorbar\":{\"outlinewidth\":0,\"ticks\":\"\"}},\"type\":\"scatterternary\"}],\"surface\":[{\"colorbar\":{\"outlinewidth\":0,\"ticks\":\"\"},\"colorscale\":[[0.0,\"#0d0887\"],[0.1111111111111111,\"#46039f\"],[0.2222222222222222,\"#7201a8\"],[0.3333333333333333,\"#9c179e\"],[0.4444444444444444,\"#bd3786\"],[0.5555555555555556,\"#d8576b\"],[0.6666666666666666,\"#ed7953\"],[0.7777777777777778,\"#fb9f3a\"],[0.8888888888888888,\"#fdca26\"],[1.0,\"#f0f921\"]],\"type\":\"surface\"}],\"table\":[{\"cells\":{\"fill\":{\"color\":\"#EBF0F8\"},\"line\":{\"color\":\"white\"}},\"header\":{\"fill\":{\"color\":\"#C8D4E3\"},\"line\":{\"color\":\"white\"}},\"type\":\"table\"}]},\"layout\":{\"annotationdefaults\":{\"arrowcolor\":\"#2a3f5f\",\"arrowhead\":0,\"arrowwidth\":1},\"autotypenumbers\":\"strict\",\"coloraxis\":{\"colorbar\":{\"outlinewidth\":0,\"ticks\":\"\"}},\"colorscale\":{\"diverging\":[[0,\"#8e0152\"],[0.1,\"#c51b7d\"],[0.2,\"#de77ae\"],[0.3,\"#f1b6da\"],[0.4,\"#fde0ef\"],[0.5,\"#f7f7f7\"],[0.6,\"#e6f5d0\"],[0.7,\"#b8e186\"],[0.8,\"#7fbc41\"],[0.9,\"#4d9221\"],[1,\"#276419\"]],\"sequential\":[[0.0,\"#0d0887\"],[0.1111111111111111,\"#46039f\"],[0.2222222222222222,\"#7201a8\"],[0.3333333333333333,\"#9c179e\"],[0.4444444444444444,\"#bd3786\"],[0.5555555555555556,\"#d8576b\"],[0.6666666666666666,\"#ed7953\"],[0.7777777777777778,\"#fb9f3a\"],[0.8888888888888888,\"#fdca26\"],[1.0,\"#f0f921\"]],\"sequentialminus\":[[0.0,\"#0d0887\"],[0.1111111111111111,\"#46039f\"],[0.2222222222222222,\"#7201a8\"],[0.3333333333333333,\"#9c179e\"],[0.4444444444444444,\"#bd3786\"],[0.5555555555555556,\"#d8576b\"],[0.6666666666666666,\"#ed7953\"],[0.7777777777777778,\"#fb9f3a\"],[0.8888888888888888,\"#fdca26\"],[1.0,\"#f0f921\"]]},\"colorway\":[\"#636efa\",\"#EF553B\",\"#00cc96\",\"#ab63fa\",\"#FFA15A\",\"#19d3f3\",\"#FF6692\",\"#B6E880\",\"#FF97FF\",\"#FECB52\"],\"font\":{\"color\":\"#2a3f5f\"},\"geo\":{\"bgcolor\":\"white\",\"lakecolor\":\"white\",\"landcolor\":\"white\",\"showlakes\":true,\"showland\":true,\"subunitcolor\":\"#C8D4E3\"},\"hoverlabel\":{\"align\":\"left\"},\"hovermode\":\"closest\",\"mapbox\":{\"style\":\"light\"},\"paper_bgcolor\":\"white\",\"plot_bgcolor\":\"white\",\"polar\":{\"angularaxis\":{\"gridcolor\":\"#EBF0F8\",\"linecolor\":\"#EBF0F8\",\"ticks\":\"\"},\"bgcolor\":\"white\",\"radialaxis\":{\"gridcolor\":\"#EBF0F8\",\"linecolor\":\"#EBF0F8\",\"ticks\":\"\"}},\"scene\":{\"xaxis\":{\"backgroundcolor\":\"white\",\"gridcolor\":\"#DFE8F3\",\"gridwidth\":2,\"linecolor\":\"#EBF0F8\",\"showbackground\":true,\"ticks\":\"\",\"zerolinecolor\":\"#EBF0F8\"},\"yaxis\":{\"backgroundcolor\":\"white\",\"gridcolor\":\"#DFE8F3\",\"gridwidth\":2,\"linecolor\":\"#EBF0F8\",\"showbackground\":true,\"ticks\":\"\",\"zerolinecolor\":\"#EBF0F8\"},\"zaxis\":{\"backgroundcolor\":\"white\",\"gridcolor\":\"#DFE8F3\",\"gridwidth\":2,\"linecolor\":\"#EBF0F8\",\"showbackground\":true,\"ticks\":\"\",\"zerolinecolor\":\"#EBF0F8\"}},\"shapedefaults\":{\"line\":{\"color\":\"#2a3f5f\"}},\"ternary\":{\"aaxis\":{\"gridcolor\":\"#DFE8F3\",\"linecolor\":\"#A2B1C6\",\"ticks\":\"\"},\"baxis\":{\"gridcolor\":\"#DFE8F3\",\"linecolor\":\"#A2B1C6\",\"ticks\":\"\"},\"bgcolor\":\"white\",\"caxis\":{\"gridcolor\":\"#DFE8F3\",\"linecolor\":\"#A2B1C6\",\"ticks\":\"\"}},\"title\":{\"x\":0.05},\"xaxis\":{\"automargin\":true,\"gridcolor\":\"#EBF0F8\",\"linecolor\":\"#EBF0F8\",\"ticks\":\"\",\"title\":{\"standoff\":15},\"zerolinecolor\":\"#EBF0F8\",\"zerolinewidth\":2},\"yaxis\":{\"automargin\":true,\"gridcolor\":\"#EBF0F8\",\"linecolor\":\"#EBF0F8\",\"ticks\":\"\",\"title\":{\"standoff\":15},\"zerolinecolor\":\"#EBF0F8\",\"zerolinewidth\":2}}},\"xaxis\":{\"anchor\":\"y\",\"domain\":[0.0,1.0],\"title\":{\"text\":\"Number of views\"},\"showgrid\":false},\"yaxis\":{\"anchor\":\"x\",\"domain\":[0.0,1.0],\"title\":{\"text\":\"count\"},\"showgrid\":false},\"legend\":{\"tracegroupgap\":0},\"margin\":{\"t\":60},\"barmode\":\"relative\",\"title\":{\"text\":\"views distribution of product_id 6659232268360 - The Staple 6-Pack \"},\"showlegend\":false,\"height\":500,\"width\":800},                        {\"responsive\": true}                    ).then(function(){\n",
       "                            \n",
       "var gd = document.getElementById('17204f5d-cc0e-4086-ab1e-aeb064ffc4e7');\n",
       "var x = new MutationObserver(function (mutations, observer) {{\n",
       "        var display = window.getComputedStyle(gd).display;\n",
       "        if (!display || display === 'none') {{\n",
       "            console.log([gd, 'removed!']);\n",
       "            Plotly.purge(gd);\n",
       "            observer.disconnect();\n",
       "        }}\n",
       "}});\n",
       "\n",
       "// Listen for the removal of the full notebook cells\n",
       "var notebookContainer = gd.closest('#notebook-container');\n",
       "if (notebookContainer) {{\n",
       "    x.observe(notebookContainer, {childList: true});\n",
       "}}\n",
       "\n",
       "// Listen for the clearing of the current output cell\n",
       "var outputEl = gd.closest('.output');\n",
       "if (outputEl) {{\n",
       "    x.observe(outputEl, {childList: true});\n",
       "}}\n",
       "\n",
       "                        })                };                });            </script>        </div>"
      ]
     },
     "metadata": {},
     "output_type": "display_data"
    }
   ],
   "source": [
    "fig = px.histogram(x=data['view_sessions'])\n",
    "fig.update_xaxes( title = 'Number of views')\n",
    "\n",
    "\n",
    "fig.update_layout(template = 'plotly_white',\n",
    "                  xaxis=dict(showgrid=False), \n",
    "                  yaxis=dict(showgrid=False), \n",
    "                  title = f'views distribution of product_id {PRODUCT_ID} - {PRODUCT_TITLE} ',\n",
    "                  showlegend=False, height=500, width=800)\n",
    "\n",
    "fig.show()\n"
   ]
  },
  {
   "cell_type": "code",
   "execution_count": 23,
   "id": "22c70469",
   "metadata": {},
   "outputs": [],
   "source": []
  },
  {
   "cell_type": "code",
   "execution_count": 27,
   "id": "214699ab",
   "metadata": {},
   "outputs": [
    {
     "data": {
      "application/vnd.plotly.v1+json": {
       "config": {
        "plotlyServerURL": "https://plot.ly"
       },
       "data": [
        {
         "hovertemplate": "color=Cumple la condición<br>x=%{x}<br>y=%{y}<br>size=%{marker.size}<extra></extra>",
         "legendgroup": "Cumple la condición",
         "marker": {
          "color": "#636efa",
          "size": [
           1413,
           3598,
           3718,
           4337,
           3399,
           3139,
           3226,
           3533,
           3444,
           3604,
           4177,
           3678,
           3783,
           3603,
           3331,
           2818,
           3004,
           2999,
           2466,
           3004,
           3851,
           4979,
           4034,
           3913,
           4705,
           4413,
           3849,
           4841,
           4987,
           3391,
           3828,
           4451,
           4895,
           3645,
           4559,
           4896,
           4449,
           4034,
           4658,
           3912,
           3900,
           4716,
           4893,
           3315,
           1658,
           1739,
           1454,
           1449,
           1358,
           1816,
           3974,
           3110,
           1749,
           2359,
           2409,
           2302,
           3149,
           3625,
           2204,
           2001,
           1682,
           2430,
           2707,
           3014,
           2430,
           2544,
           2608,
           2973,
           2947,
           3792,
           4873,
           4952,
           4997,
           3980,
           3474,
           3792,
           4675,
           3794,
           3674,
           3334,
           3448,
           4131,
           4969,
           3926,
           3908,
           4069,
           4379,
           4192,
           4594,
           4444,
           4184,
           4365,
           4435,
           4551,
           4587,
           4862,
           4990,
           4661,
           3843,
           4009,
           4410,
           4394,
           4967,
           4572,
           3914,
           3566,
           3726,
           4419,
           3989,
           4240,
           3786,
           4770,
           4609,
           4481,
           4464,
           4747,
           4979,
           4432,
           4188,
           4245,
           4612,
           3993,
           4434,
           4701,
           4763,
           3906,
           3787,
           4371,
           4699,
           3780,
           3508,
           4121,
           3618,
           3816,
           4233,
           4541,
           3928,
           4239,
           3885,
           4783,
           4325,
           4265,
           4817,
           4175,
           4243,
           3494,
           3210,
           3374,
           3864,
           4822,
           3442,
           3125,
           3059,
           3784,
           3674,
           4354,
           4037,
           3790,
           3736,
           3625,
           4577,
           3805,
           3938,
           3843,
           4015,
           4528,
           4125,
           3745,
           4050,
           4673,
           4410,
           4375,
           3814,
           3558,
           4486,
           4038,
           3416,
           3676,
           4986,
           3442,
           3236,
           3188,
           4232,
           3810,
           3308,
           3070,
           2892,
           2966,
           3618,
           4420,
           3379,
           3033,
           2939,
           2839,
           2655,
           3022,
           3971,
           3223,
           2549,
           2654,
           3567,
           4105,
           4930,
           3944,
           3776,
           3232,
           2837,
           2754,
           2758,
           3605,
           2955,
           2476,
           2654,
           2705,
           2616,
           3199,
           3903,
           2811,
           2822,
           3139,
           3024,
           2788,
           2857,
           3422,
           3326,
           2604,
           2839,
           2685,
           2906,
           2719,
           3198,
           2467,
           2131,
           2276,
           4018,
           3368,
           3698,
           4243,
           3963,
           3286,
           3655,
           4598,
           4235,
           3603,
           3498
          ],
          "sizemode": "area",
          "sizeref": 57.39,
          "symbol": "circle"
         },
         "mode": "markers",
         "name": "Cumple la condición",
         "orientation": "v",
         "showlegend": true,
         "type": "scatter",
         "x": [
          100,
          100,
          100,
          100,
          100,
          100,
          100,
          100,
          100,
          100,
          100,
          100,
          100,
          100,
          100,
          110,
          110,
          99,
          110,
          102.7,
          88,
          90,
          90,
          90,
          90,
          90,
          90,
          90,
          90,
          90,
          90,
          90,
          90,
          100,
          100,
          100,
          100,
          100,
          106.7,
          100,
          100,
          100,
          100,
          100,
          100,
          100,
          100,
          100,
          100,
          100,
          86.7,
          100,
          66.7,
          100,
          100,
          100,
          100,
          100,
          100,
          100,
          100,
          100,
          100,
          100,
          100,
          100,
          100,
          100,
          100,
          100,
          100,
          100,
          100,
          100,
          100,
          100,
          100,
          100,
          99.9,
          99.9,
          99.9,
          99.9,
          99.9,
          99.9,
          99.9,
          99.9,
          99.9,
          99.9,
          99.9,
          99.9,
          99.9,
          99.9,
          99.9,
          99.9,
          99.9,
          99.9,
          99.9,
          99.9,
          102.7,
          101.2,
          103.1,
          107.5,
          95.3,
          95.7,
          96.1,
          99.5,
          99.4,
          99.9,
          75,
          105,
          103.3,
          103.3,
          102.5,
          102.5,
          78.8,
          112.1,
          102.5,
          88.2,
          89.4,
          104.3,
          105,
          105,
          102,
          97,
          105,
          105,
          105,
          105,
          105,
          105,
          105,
          105,
          104.9,
          105,
          105,
          105,
          105,
          105,
          105,
          112.8,
          105,
          105,
          105,
          105,
          73.2,
          105,
          105,
          105,
          105,
          105.1,
          77.7,
          105,
          105,
          105,
          103.3,
          99.3,
          105,
          105,
          97.5,
          91.1,
          99.9,
          95.4,
          101.2,
          100.2,
          91.8,
          102,
          107.9,
          97.5,
          101.9,
          105,
          105,
          105,
          105,
          105,
          105,
          105,
          105,
          105,
          97.4,
          97.4,
          92.5,
          97,
          94.6,
          98.8,
          77.7,
          73,
          73,
          97.4,
          92,
          97.4,
          93.8,
          90.7,
          97.4,
          97.4,
          97.4,
          97.4,
          97.4,
          97.4,
          97.4,
          97.4,
          90,
          90,
          90,
          90,
          90,
          97.4,
          90,
          90,
          90,
          90,
          90,
          90,
          90,
          90,
          90,
          90,
          90,
          90,
          90,
          90,
          90,
          90,
          90,
          90,
          90,
          90,
          90,
          90,
          90,
          90,
          90,
          89.9,
          89.9,
          90,
          80,
          80,
          80,
          80,
          80,
          80,
          80,
          80,
          80,
          80,
          80
         ],
         "xaxis": "x",
         "y": [
          89,
          356,
          362,
          451,
          377,
          298,
          298,
          369,
          338,
          344,
          405,
          337,
          378,
          350,
          317,
          280,
          317,
          384,
          267,
          315,
          332,
          479,
          423,
          412,
          464,
          448,
          431,
          571,
          600,
          430,
          463,
          535,
          639,
          434,
          496,
          548,
          516,
          546,
          644,
          478,
          547,
          610,
          591,
          442,
          204,
          191,
          174,
          179,
          123,
          195,
          386,
          312,
          275,
          241,
          272,
          223,
          253,
          337,
          217,
          88,
          183,
          216,
          224,
          244,
          223,
          225,
          211,
          249,
          284,
          285,
          342,
          375,
          305,
          316,
          268,
          312,
          308,
          253,
          272,
          290,
          313,
          390,
          477,
          338,
          377,
          428,
          410,
          430,
          448,
          405,
          363,
          437,
          426,
          377,
          410,
          433,
          412,
          490,
          429,
          424,
          489,
          515,
          449,
          456,
          417,
          380,
          456,
          441,
          428,
          414,
          398,
          432,
          444,
          449,
          483,
          533,
          487,
          454,
          400,
          447,
          520,
          496,
          565,
          570,
          650,
          623,
          574,
          624,
          662,
          569,
          531,
          456,
          537,
          544,
          545,
          502,
          492,
          448,
          457,
          505,
          480,
          488,
          560,
          539,
          655,
          458,
          450,
          466,
          509,
          628,
          519,
          459,
          436,
          469,
          500,
          519,
          432,
          418,
          448,
          431,
          488,
          441,
          437,
          444,
          443,
          455,
          457,
          380,
          377,
          426,
          416,
          382,
          405,
          443,
          462,
          467,
          349,
          386,
          508,
          381,
          353,
          371,
          453,
          428,
          382,
          331,
          334,
          344,
          417,
          523,
          391,
          366,
          289,
          307,
          303,
          293,
          352,
          300,
          250,
          295,
          393,
          370,
          464,
          420,
          357,
          265,
          258,
          251,
          289,
          407,
          323,
          310,
          221,
          210,
          214,
          243,
          284,
          210,
          190,
          181,
          260,
          240,
          246,
          323,
          261,
          207,
          237,
          210,
          234,
          256,
          325,
          228,
          207,
          208,
          353,
          320,
          356,
          385,
          329,
          325,
          326,
          385,
          435,
          380,
          396
         ],
         "yaxis": "y"
        },
        {
         "hovertemplate": "<b>OLS trendline</b><br>y = 3.21968 * x + 73.7108<br>R<sup>2</sup>=0.048452<br><br>color=Cumple la condición<br>x=%{x}<br>y=%{y} <b>(trend)</b><extra></extra>",
         "legendgroup": "Cumple la condición",
         "marker": {
          "color": "#636efa",
          "symbol": "circle"
         },
         "mode": "lines",
         "name": "Cumple la condición",
         "showlegend": false,
         "type": "scatter",
         "x": [
          66.7,
          73,
          73,
          73.2,
          75,
          77.7,
          77.7,
          78.8,
          80,
          80,
          80,
          80,
          80,
          80,
          80,
          80,
          80,
          80,
          80,
          86.7,
          88,
          88.2,
          89.4,
          89.9,
          89.9,
          90,
          90,
          90,
          90,
          90,
          90,
          90,
          90,
          90,
          90,
          90,
          90,
          90,
          90,
          90,
          90,
          90,
          90,
          90,
          90,
          90,
          90,
          90,
          90,
          90,
          90,
          90,
          90,
          90,
          90,
          90,
          90,
          90,
          90,
          90,
          90,
          90,
          90,
          90,
          90,
          90,
          90,
          90,
          90.7,
          91.1,
          91.8,
          92,
          92.5,
          93.8,
          94.6,
          95.3,
          95.4,
          95.7,
          96.1,
          97,
          97,
          97.4,
          97.4,
          97.4,
          97.4,
          97.4,
          97.4,
          97.4,
          97.4,
          97.4,
          97.4,
          97.4,
          97.4,
          97.4,
          97.5,
          97.5,
          98.8,
          99,
          99.3,
          99.4,
          99.5,
          99.9,
          99.9,
          99.9,
          99.9,
          99.9,
          99.9,
          99.9,
          99.9,
          99.9,
          99.9,
          99.9,
          99.9,
          99.9,
          99.9,
          99.9,
          99.9,
          99.9,
          99.9,
          99.9,
          99.9,
          99.9,
          99.9,
          100,
          100,
          100,
          100,
          100,
          100,
          100,
          100,
          100,
          100,
          100,
          100,
          100,
          100,
          100,
          100,
          100,
          100,
          100,
          100,
          100,
          100,
          100,
          100,
          100,
          100,
          100,
          100,
          100,
          100,
          100,
          100,
          100,
          100,
          100,
          100,
          100,
          100,
          100,
          100,
          100,
          100,
          100,
          100,
          100,
          100,
          100,
          100,
          100,
          100,
          100,
          100,
          100,
          100,
          100,
          100,
          100,
          100.2,
          101.2,
          101.2,
          101.9,
          102,
          102,
          102.5,
          102.5,
          102.5,
          102.7,
          102.7,
          103.1,
          103.3,
          103.3,
          103.3,
          104.3,
          104.9,
          105,
          105,
          105,
          105,
          105,
          105,
          105,
          105,
          105,
          105,
          105,
          105,
          105,
          105,
          105,
          105,
          105,
          105,
          105,
          105,
          105,
          105,
          105,
          105,
          105,
          105,
          105,
          105,
          105,
          105,
          105,
          105,
          105,
          105,
          105,
          105,
          105,
          105,
          105,
          105.1,
          106.7,
          107.5,
          107.9,
          110,
          110,
          110,
          112.1,
          112.8
         ],
         "xaxis": "x",
         "y": [
          288.4636469337947,
          308.7476457713187,
          308.7476457713187,
          309.3915822423512,
          315.1870104816438,
          323.8801528405827,
          323.8801528405827,
          327.4218034312615,
          331.28542225745656,
          331.28542225745656,
          331.28542225745656,
          331.28542225745656,
          331.28542225745656,
          331.28542225745656,
          331.28542225745656,
          331.28542225745656,
          331.28542225745656,
          331.28542225745656,
          331.28542225745656,
          352.8572940370456,
          357.04288109875694,
          357.68681756978947,
          361.55043639598455,
          363.1602775735658,
          363.1602775735658,
          363.48224580908203,
          363.48224580908203,
          363.48224580908203,
          363.48224580908203,
          363.48224580908203,
          363.48224580908203,
          363.48224580908203,
          363.48224580908203,
          363.48224580908203,
          363.48224580908203,
          363.48224580908203,
          363.48224580908203,
          363.48224580908203,
          363.48224580908203,
          363.48224580908203,
          363.48224580908203,
          363.48224580908203,
          363.48224580908203,
          363.48224580908203,
          363.48224580908203,
          363.48224580908203,
          363.48224580908203,
          363.48224580908203,
          363.48224580908203,
          363.48224580908203,
          363.48224580908203,
          363.48224580908203,
          363.48224580908203,
          363.48224580908203,
          363.48224580908203,
          363.48224580908203,
          363.48224580908203,
          363.48224580908203,
          363.48224580908203,
          363.48224580908203,
          363.48224580908203,
          363.48224580908203,
          363.48224580908203,
          363.48224580908203,
          363.48224580908203,
          363.48224580908203,
          363.48224580908203,
          363.48224580908203,
          365.7360234576958,
          367.0238963997608,
          369.2776740483746,
          369.9216105194071,
          371.5314516969884,
          375.7170387586997,
          378.29278464282976,
          380.54656229144354,
          380.86853052695983,
          381.8344352335086,
          383.12230817557355,
          386.02002229521986,
          386.02002229521986,
          387.3078952372849,
          387.3078952372849,
          387.3078952372849,
          387.3078952372849,
          387.3078952372849,
          387.3078952372849,
          387.3078952372849,
          387.3078952372849,
          387.3078952372849,
          387.3078952372849,
          387.3078952372849,
          387.3078952372849,
          387.3078952372849,
          387.62986347280116,
          387.62986347280116,
          391.8154505345125,
          392.45938700554495,
          393.4252917120937,
          393.74725994761,
          394.06922818312626,
          395.35710112519126,
          395.35710112519126,
          395.35710112519126,
          395.35710112519126,
          395.35710112519126,
          395.35710112519126,
          395.35710112519126,
          395.35710112519126,
          395.35710112519126,
          395.35710112519126,
          395.35710112519126,
          395.35710112519126,
          395.35710112519126,
          395.35710112519126,
          395.35710112519126,
          395.35710112519126,
          395.35710112519126,
          395.35710112519126,
          395.35710112519126,
          395.35710112519126,
          395.35710112519126,
          395.35710112519126,
          395.6790693607075,
          395.6790693607075,
          395.6790693607075,
          395.6790693607075,
          395.6790693607075,
          395.6790693607075,
          395.6790693607075,
          395.6790693607075,
          395.6790693607075,
          395.6790693607075,
          395.6790693607075,
          395.6790693607075,
          395.6790693607075,
          395.6790693607075,
          395.6790693607075,
          395.6790693607075,
          395.6790693607075,
          395.6790693607075,
          395.6790693607075,
          395.6790693607075,
          395.6790693607075,
          395.6790693607075,
          395.6790693607075,
          395.6790693607075,
          395.6790693607075,
          395.6790693607075,
          395.6790693607075,
          395.6790693607075,
          395.6790693607075,
          395.6790693607075,
          395.6790693607075,
          395.6790693607075,
          395.6790693607075,
          395.6790693607075,
          395.6790693607075,
          395.6790693607075,
          395.6790693607075,
          395.6790693607075,
          395.6790693607075,
          395.6790693607075,
          395.6790693607075,
          395.6790693607075,
          395.6790693607075,
          395.6790693607075,
          395.6790693607075,
          395.6790693607075,
          395.6790693607075,
          395.6790693607075,
          395.6790693607075,
          395.6790693607075,
          395.6790693607075,
          395.6790693607075,
          395.6790693607075,
          395.6790693607075,
          395.6790693607075,
          395.6790693607075,
          395.6790693607075,
          396.32300583174003,
          399.5426881869026,
          399.5426881869026,
          401.79646583551636,
          402.1184340710326,
          402.1184340710326,
          403.7282752486139,
          403.7282752486139,
          403.7282752486139,
          404.37221171964643,
          404.37221171964643,
          405.6600846617114,
          406.3040211327439,
          406.3040211327439,
          406.3040211327439,
          409.52370348790646,
          411.455512901004,
          411.77748113652024,
          411.77748113652024,
          411.77748113652024,
          411.77748113652024,
          411.77748113652024,
          411.77748113652024,
          411.77748113652024,
          411.77748113652024,
          411.77748113652024,
          411.77748113652024,
          411.77748113652024,
          411.77748113652024,
          411.77748113652024,
          411.77748113652024,
          411.77748113652024,
          411.77748113652024,
          411.77748113652024,
          411.77748113652024,
          411.77748113652024,
          411.77748113652024,
          411.77748113652024,
          411.77748113652024,
          411.77748113652024,
          411.77748113652024,
          411.77748113652024,
          411.77748113652024,
          411.77748113652024,
          411.77748113652024,
          411.77748113652024,
          411.77748113652024,
          411.77748113652024,
          411.77748113652024,
          411.77748113652024,
          411.77748113652024,
          411.77748113652024,
          411.77748113652024,
          411.77748113652024,
          411.77748113652024,
          411.77748113652024,
          412.0994493720365,
          417.2509411402966,
          419.82668702442663,
          421.1145599664917,
          427.87589291233303,
          427.87589291233303,
          427.87589291233303,
          434.63722585817436,
          436.89100350678814
         ],
         "yaxis": "y"
        },
        {
         "hovertemplate": "color=No cumple<br>x=%{x}<br>y=%{y}<br>size=%{marker.size}<extra></extra>",
         "legendgroup": "No cumple",
         "marker": {
          "color": "#EF553B",
          "size": [
           8220,
           6458,
           6322,
           7374,
           5796,
           5390,
           6374,
           5052,
           5849,
           5551,
           7024,
           7677,
           5364,
           5183,
           8449,
           17424,
           11402,
           15805,
           17213,
           6788,
           5465,
           5290,
           5277,
           6183,
           5332,
           5215,
           5031,
           5521,
           5412,
           6572,
           5568,
           6108,
           6340,
           6892,
           9246,
           11374,
           8857,
           7029,
           5521,
           5368,
           5512,
           7034,
           6257,
           5763,
           6351,
           5423,
           5952,
           7391,
           8135,
           6036,
           5892,
           5460,
           5459,
           5552,
           6701,
           7548,
           6168,
           5535,
           5368,
           6644,
           6173,
           7635,
           5440,
           5516,
           5057,
           5737,
           7403,
           8208,
           6146,
           6418,
           5556,
           5200,
           5153,
           7226,
           9435,
           7287,
           6302,
           6625,
           7343,
           6238,
           6362,
           7213,
           5579,
           5156,
           5204,
           6105,
           6099,
           9956,
           13919,
           7146,
           5108,
           6102,
           6519,
           5367,
           6042,
           5101,
           5542,
           6436,
           5389,
           5343,
           6734,
           5660,
           5903,
           6113,
           6263,
           7279,
           10507,
           13326,
           16761,
           8941,
           6201,
           5501,
           5956,
           5113,
           5179,
           5055,
           5681,
           7382,
           6328,
           5108,
           5650,
           5167,
           6864,
           6127,
           8830,
           10037,
           8990,
           9101,
           7185,
           5006,
           5962,
           6659,
           6820,
           5562,
           5006,
           5911,
           5799,
           5372,
           5456,
           6922,
           7112,
           8466,
           9342,
           5925,
           5274,
           7945,
           9198,
           8347,
           5252,
           5359,
           6339,
           6194,
           5901,
           7927,
           11723,
           6486,
           5156,
           5741,
           6896,
           6127,
           8226,
           11921,
           6073,
           7076,
           12250,
           22956,
           9825,
           8981,
           11714,
           7678
          ],
          "sizemode": "area",
          "sizeref": 57.39,
          "symbol": "circle"
         },
         "mode": "markers",
         "name": "No cumple",
         "orientation": "v",
         "showlegend": true,
         "type": "scatter",
         "x": [
          90,
          90,
          90,
          90,
          90,
          90,
          90,
          90,
          89.6,
          90,
          90,
          95.8,
          90,
          90,
          90.7,
          92.8,
          94.4,
          89.6,
          91.4,
          90,
          90,
          100,
          101.9,
          100,
          100,
          100,
          99.9,
          99.9,
          99.9,
          99.9,
          99.9,
          99.9,
          99.9,
          99.9,
          99.9,
          99.9,
          99.9,
          99.9,
          99.9,
          99.9,
          99.9,
          99.9,
          99.9,
          99.9,
          99.9,
          99.9,
          99.9,
          103.7,
          99.9,
          99.9,
          99.9,
          99.9,
          99.9,
          99.9,
          99.9,
          98.2,
          99.9,
          99.9,
          99.9,
          99.9,
          99.9,
          99.9,
          99.9,
          99.9,
          99.9,
          99.9,
          99.9,
          99.9,
          99.9,
          99.9,
          99.9,
          99.9,
          99.9,
          99.9,
          99.9,
          99.9,
          99.9,
          99.9,
          120,
          99.3,
          96.6,
          99.9,
          99.9,
          99.9,
          99.9,
          99.9,
          99.9,
          99.9,
          99.9,
          99.9,
          110.2,
          101.6,
          108.2,
          102.4,
          109.2,
          96.7,
          85,
          104.7,
          83.1,
          95,
          102.5,
          107,
          100.6,
          105,
          110,
          105,
          93,
          92,
          89,
          91.5,
          105,
          105,
          101.5,
          105,
          105,
          97,
          97,
          97,
          97,
          105,
          105,
          114.9,
          97,
          98.8,
          91.1,
          93.2,
          94.7,
          91.2,
          86.8,
          103,
          105.9,
          109.7,
          98.1,
          102.4,
          105,
          99.7,
          100.2,
          101.7,
          98.6,
          12.3,
          97.5,
          97.5,
          103,
          105,
          97.4,
          99.8,
          89.3,
          98,
          95,
          95.1,
          90,
          75,
          75,
          79.5,
          78.3,
          80,
          80,
          80,
          80,
          80,
          86.4,
          80,
          80,
          80,
          80,
          82.6,
          85.1,
          82.4,
          80,
          80
         ],
         "xaxis": "x",
         "y": [
          840,
          678,
          645,
          1037,
          677,
          529,
          644,
          591,
          665,
          593,
          633,
          741,
          635,
          607,
          938,
          2554,
          1388,
          1671,
          2555,
          785,
          638,
          692,
          751,
          581,
          301,
          351,
          510,
          524,
          499,
          546,
          409,
          492,
          548,
          622,
          777,
          923,
          718,
          553,
          441,
          454,
          505,
          618,
          600,
          528,
          508,
          494,
          520,
          614,
          669,
          501,
          521,
          496,
          501,
          490,
          607,
          699,
          536,
          474,
          492,
          499,
          534,
          654,
          421,
          423,
          438,
          460,
          512,
          613,
          492,
          448,
          489,
          429,
          483,
          622,
          688,
          548,
          520,
          500,
          409,
          393,
          507,
          524,
          541,
          551,
          486,
          615,
          623,
          875,
          1328,
          764,
          464,
          606,
          679,
          482,
          533,
          532,
          511,
          637,
          465,
          523,
          605,
          599,
          460,
          458,
          577,
          642,
          1337,
          1704,
          2027,
          1142,
          570,
          632,
          727,
          510,
          572,
          522,
          696,
          940,
          802,
          661,
          714,
          727,
          607,
          677,
          1074,
          1360,
          1153,
          1496,
          963,
          548,
          658,
          680,
          775,
          712,
          607,
          658,
          679,
          487,
          426,
          706,
          542,
          703,
          947,
          613,
          507,
          764,
          907,
          1022,
          624,
          611,
          597,
          679,
          616,
          789,
          1083,
          631,
          407,
          489,
          492,
          536,
          721,
          647,
          566,
          714,
          1048,
          2724,
          1139,
          1198,
          1860,
          815
         ],
         "yaxis": "y"
        },
        {
         "hovertemplate": "<b>OLS trendline</b><br>y = -9.3772 * x + 1611.17<br>R<sup>2</sup>=0.064884<br><br>color=No cumple<br>x=%{x}<br>y=%{y} <b>(trend)</b><extra></extra>",
         "legendgroup": "No cumple",
         "marker": {
          "color": "#EF553B",
          "symbol": "circle"
         },
         "mode": "lines",
         "name": "No cumple",
         "showlegend": false,
         "type": "scatter",
         "x": [
          12.3,
          75,
          75,
          78.3,
          79.5,
          80,
          80,
          80,
          80,
          80,
          80,
          80,
          80,
          80,
          80,
          80,
          82.4,
          82.6,
          83.1,
          85,
          85.1,
          86.4,
          86.8,
          89,
          89.3,
          89.6,
          89.6,
          90,
          90,
          90,
          90,
          90,
          90,
          90,
          90,
          90,
          90,
          90,
          90,
          90,
          90,
          90,
          90.7,
          91.1,
          91.2,
          91.4,
          91.5,
          92,
          92.8,
          93,
          93.2,
          94.4,
          94.7,
          95,
          95,
          95.1,
          95.8,
          96.6,
          96.7,
          97,
          97,
          97,
          97,
          97,
          97.4,
          97.5,
          97.5,
          98,
          98.1,
          98.2,
          98.6,
          98.8,
          99.3,
          99.7,
          99.8,
          99.9,
          99.9,
          99.9,
          99.9,
          99.9,
          99.9,
          99.9,
          99.9,
          99.9,
          99.9,
          99.9,
          99.9,
          99.9,
          99.9,
          99.9,
          99.9,
          99.9,
          99.9,
          99.9,
          99.9,
          99.9,
          99.9,
          99.9,
          99.9,
          99.9,
          99.9,
          99.9,
          99.9,
          99.9,
          99.9,
          99.9,
          99.9,
          99.9,
          99.9,
          99.9,
          99.9,
          99.9,
          99.9,
          99.9,
          99.9,
          99.9,
          99.9,
          99.9,
          99.9,
          99.9,
          99.9,
          99.9,
          99.9,
          99.9,
          99.9,
          99.9,
          99.9,
          99.9,
          99.9,
          99.9,
          99.9,
          99.9,
          99.9,
          99.9,
          100,
          100,
          100,
          100,
          100.2,
          100.6,
          101.5,
          101.6,
          101.7,
          101.9,
          102.4,
          102.4,
          102.5,
          103,
          103,
          103.7,
          104.7,
          105,
          105,
          105,
          105,
          105,
          105,
          105,
          105,
          105,
          105,
          105.9,
          107,
          108.2,
          109.2,
          109.7,
          110,
          110.2,
          114.9,
          120
         ],
         "xaxis": "x",
         "y": [
          1495.8281720073674,
          907.8775741341345,
          907.8775741341345,
          876.932805825017,
          865.6801628035197,
          860.9915615445625,
          860.9915615445625,
          860.9915615445625,
          860.9915615445625,
          860.9915615445625,
          860.9915615445625,
          860.9915615445625,
          860.9915615445625,
          860.9915615445625,
          860.9915615445625,
          860.9915615445625,
          838.4862755015679,
          836.6108349979851,
          831.9222337390279,
          814.1055489549905,
          813.1678287031991,
          800.9774654299104,
          797.2265844227446,
          776.5967388833329,
          773.7835781279587,
          770.9704173725843,
          770.9704173725843,
          767.2195363654185,
          767.2195363654185,
          767.2195363654185,
          767.2195363654185,
          767.2195363654185,
          767.2195363654185,
          767.2195363654185,
          767.2195363654185,
          767.2195363654185,
          767.2195363654185,
          767.2195363654185,
          767.2195363654185,
          767.2195363654185,
          767.2195363654185,
          767.2195363654185,
          760.6554946028784,
          756.9046135957127,
          755.9668933439212,
          754.0914528403383,
          753.153732588547,
          748.4651313295897,
          740.9633693152582,
          739.0879288116753,
          737.2124883080925,
          725.9598452865952,
          723.1466845312208,
          720.3335237758465,
          720.3335237758465,
          719.3958035240552,
          712.831761761515,
          705.3299997471836,
          704.392279495392,
          701.5791187400177,
          701.5791187400177,
          701.5791187400177,
          701.5791187400177,
          701.5791187400177,
          697.8282377328519,
          696.8905174810606,
          696.8905174810606,
          692.2019162221034,
          691.2641959703119,
          690.3264757185204,
          686.5755947113547,
          684.7001542077718,
          680.0115529488146,
          676.2606719416489,
          675.3229516898574,
          674.385231438066,
          674.385231438066,
          674.385231438066,
          674.385231438066,
          674.385231438066,
          674.385231438066,
          674.385231438066,
          674.385231438066,
          674.385231438066,
          674.385231438066,
          674.385231438066,
          674.385231438066,
          674.385231438066,
          674.385231438066,
          674.385231438066,
          674.385231438066,
          674.385231438066,
          674.385231438066,
          674.385231438066,
          674.385231438066,
          674.385231438066,
          674.385231438066,
          674.385231438066,
          674.385231438066,
          674.385231438066,
          674.385231438066,
          674.385231438066,
          674.385231438066,
          674.385231438066,
          674.385231438066,
          674.385231438066,
          674.385231438066,
          674.385231438066,
          674.385231438066,
          674.385231438066,
          674.385231438066,
          674.385231438066,
          674.385231438066,
          674.385231438066,
          674.385231438066,
          674.385231438066,
          674.385231438066,
          674.385231438066,
          674.385231438066,
          674.385231438066,
          674.385231438066,
          674.385231438066,
          674.385231438066,
          674.385231438066,
          674.385231438066,
          674.385231438066,
          674.385231438066,
          674.385231438066,
          674.385231438066,
          674.385231438066,
          674.385231438066,
          674.385231438066,
          674.385231438066,
          674.385231438066,
          673.4475111862746,
          673.4475111862746,
          673.4475111862746,
          673.4475111862746,
          671.5720706826917,
          667.8211896755259,
          659.3817074094029,
          658.4439871576116,
          657.50626690582,
          655.6308264022372,
          650.94222514328,
          650.94222514328,
          650.0045048914885,
          645.3159036325313,
          645.3159036325313,
          638.7518618699912,
          629.3746593520768,
          626.5614985967026,
          626.5614985967026,
          626.5614985967026,
          626.5614985967026,
          626.5614985967026,
          626.5614985967026,
          626.5614985967026,
          626.5614985967026,
          626.5614985967026,
          626.5614985967026,
          618.1220163305795,
          607.8070935608738,
          596.5544505393765,
          587.1772480214621,
          582.4886467625049,
          579.6754860071305,
          577.8000455035476,
          533.7271936693498,
          485.90346082798646
         ],
         "yaxis": "y"
        }
       ],
       "layout": {
        "height": 600,
        "legend": {
         "itemsizing": "constant",
         "title": {
          "text": "color"
         },
         "tracegroupgap": 0
        },
        "margin": {
         "t": 60
        },
        "template": {
         "data": {
          "bar": [
           {
            "error_x": {
             "color": "#2a3f5f"
            },
            "error_y": {
             "color": "#2a3f5f"
            },
            "marker": {
             "line": {
              "color": "white",
              "width": 0.5
             },
             "pattern": {
              "fillmode": "overlay",
              "size": 10,
              "solidity": 0.2
             }
            },
            "type": "bar"
           }
          ],
          "barpolar": [
           {
            "marker": {
             "line": {
              "color": "white",
              "width": 0.5
             },
             "pattern": {
              "fillmode": "overlay",
              "size": 10,
              "solidity": 0.2
             }
            },
            "type": "barpolar"
           }
          ],
          "carpet": [
           {
            "aaxis": {
             "endlinecolor": "#2a3f5f",
             "gridcolor": "#C8D4E3",
             "linecolor": "#C8D4E3",
             "minorgridcolor": "#C8D4E3",
             "startlinecolor": "#2a3f5f"
            },
            "baxis": {
             "endlinecolor": "#2a3f5f",
             "gridcolor": "#C8D4E3",
             "linecolor": "#C8D4E3",
             "minorgridcolor": "#C8D4E3",
             "startlinecolor": "#2a3f5f"
            },
            "type": "carpet"
           }
          ],
          "choropleth": [
           {
            "colorbar": {
             "outlinewidth": 0,
             "ticks": ""
            },
            "type": "choropleth"
           }
          ],
          "contour": [
           {
            "colorbar": {
             "outlinewidth": 0,
             "ticks": ""
            },
            "colorscale": [
             [
              0,
              "#0d0887"
             ],
             [
              0.1111111111111111,
              "#46039f"
             ],
             [
              0.2222222222222222,
              "#7201a8"
             ],
             [
              0.3333333333333333,
              "#9c179e"
             ],
             [
              0.4444444444444444,
              "#bd3786"
             ],
             [
              0.5555555555555556,
              "#d8576b"
             ],
             [
              0.6666666666666666,
              "#ed7953"
             ],
             [
              0.7777777777777778,
              "#fb9f3a"
             ],
             [
              0.8888888888888888,
              "#fdca26"
             ],
             [
              1,
              "#f0f921"
             ]
            ],
            "type": "contour"
           }
          ],
          "contourcarpet": [
           {
            "colorbar": {
             "outlinewidth": 0,
             "ticks": ""
            },
            "type": "contourcarpet"
           }
          ],
          "heatmap": [
           {
            "colorbar": {
             "outlinewidth": 0,
             "ticks": ""
            },
            "colorscale": [
             [
              0,
              "#0d0887"
             ],
             [
              0.1111111111111111,
              "#46039f"
             ],
             [
              0.2222222222222222,
              "#7201a8"
             ],
             [
              0.3333333333333333,
              "#9c179e"
             ],
             [
              0.4444444444444444,
              "#bd3786"
             ],
             [
              0.5555555555555556,
              "#d8576b"
             ],
             [
              0.6666666666666666,
              "#ed7953"
             ],
             [
              0.7777777777777778,
              "#fb9f3a"
             ],
             [
              0.8888888888888888,
              "#fdca26"
             ],
             [
              1,
              "#f0f921"
             ]
            ],
            "type": "heatmap"
           }
          ],
          "heatmapgl": [
           {
            "colorbar": {
             "outlinewidth": 0,
             "ticks": ""
            },
            "colorscale": [
             [
              0,
              "#0d0887"
             ],
             [
              0.1111111111111111,
              "#46039f"
             ],
             [
              0.2222222222222222,
              "#7201a8"
             ],
             [
              0.3333333333333333,
              "#9c179e"
             ],
             [
              0.4444444444444444,
              "#bd3786"
             ],
             [
              0.5555555555555556,
              "#d8576b"
             ],
             [
              0.6666666666666666,
              "#ed7953"
             ],
             [
              0.7777777777777778,
              "#fb9f3a"
             ],
             [
              0.8888888888888888,
              "#fdca26"
             ],
             [
              1,
              "#f0f921"
             ]
            ],
            "type": "heatmapgl"
           }
          ],
          "histogram": [
           {
            "marker": {
             "pattern": {
              "fillmode": "overlay",
              "size": 10,
              "solidity": 0.2
             }
            },
            "type": "histogram"
           }
          ],
          "histogram2d": [
           {
            "colorbar": {
             "outlinewidth": 0,
             "ticks": ""
            },
            "colorscale": [
             [
              0,
              "#0d0887"
             ],
             [
              0.1111111111111111,
              "#46039f"
             ],
             [
              0.2222222222222222,
              "#7201a8"
             ],
             [
              0.3333333333333333,
              "#9c179e"
             ],
             [
              0.4444444444444444,
              "#bd3786"
             ],
             [
              0.5555555555555556,
              "#d8576b"
             ],
             [
              0.6666666666666666,
              "#ed7953"
             ],
             [
              0.7777777777777778,
              "#fb9f3a"
             ],
             [
              0.8888888888888888,
              "#fdca26"
             ],
             [
              1,
              "#f0f921"
             ]
            ],
            "type": "histogram2d"
           }
          ],
          "histogram2dcontour": [
           {
            "colorbar": {
             "outlinewidth": 0,
             "ticks": ""
            },
            "colorscale": [
             [
              0,
              "#0d0887"
             ],
             [
              0.1111111111111111,
              "#46039f"
             ],
             [
              0.2222222222222222,
              "#7201a8"
             ],
             [
              0.3333333333333333,
              "#9c179e"
             ],
             [
              0.4444444444444444,
              "#bd3786"
             ],
             [
              0.5555555555555556,
              "#d8576b"
             ],
             [
              0.6666666666666666,
              "#ed7953"
             ],
             [
              0.7777777777777778,
              "#fb9f3a"
             ],
             [
              0.8888888888888888,
              "#fdca26"
             ],
             [
              1,
              "#f0f921"
             ]
            ],
            "type": "histogram2dcontour"
           }
          ],
          "mesh3d": [
           {
            "colorbar": {
             "outlinewidth": 0,
             "ticks": ""
            },
            "type": "mesh3d"
           }
          ],
          "parcoords": [
           {
            "line": {
             "colorbar": {
              "outlinewidth": 0,
              "ticks": ""
             }
            },
            "type": "parcoords"
           }
          ],
          "pie": [
           {
            "automargin": true,
            "type": "pie"
           }
          ],
          "scatter": [
           {
            "marker": {
             "colorbar": {
              "outlinewidth": 0,
              "ticks": ""
             }
            },
            "type": "scatter"
           }
          ],
          "scatter3d": [
           {
            "line": {
             "colorbar": {
              "outlinewidth": 0,
              "ticks": ""
             }
            },
            "marker": {
             "colorbar": {
              "outlinewidth": 0,
              "ticks": ""
             }
            },
            "type": "scatter3d"
           }
          ],
          "scattercarpet": [
           {
            "marker": {
             "colorbar": {
              "outlinewidth": 0,
              "ticks": ""
             }
            },
            "type": "scattercarpet"
           }
          ],
          "scattergeo": [
           {
            "marker": {
             "colorbar": {
              "outlinewidth": 0,
              "ticks": ""
             }
            },
            "type": "scattergeo"
           }
          ],
          "scattergl": [
           {
            "marker": {
             "colorbar": {
              "outlinewidth": 0,
              "ticks": ""
             }
            },
            "type": "scattergl"
           }
          ],
          "scattermapbox": [
           {
            "marker": {
             "colorbar": {
              "outlinewidth": 0,
              "ticks": ""
             }
            },
            "type": "scattermapbox"
           }
          ],
          "scatterpolar": [
           {
            "marker": {
             "colorbar": {
              "outlinewidth": 0,
              "ticks": ""
             }
            },
            "type": "scatterpolar"
           }
          ],
          "scatterpolargl": [
           {
            "marker": {
             "colorbar": {
              "outlinewidth": 0,
              "ticks": ""
             }
            },
            "type": "scatterpolargl"
           }
          ],
          "scatterternary": [
           {
            "marker": {
             "colorbar": {
              "outlinewidth": 0,
              "ticks": ""
             }
            },
            "type": "scatterternary"
           }
          ],
          "surface": [
           {
            "colorbar": {
             "outlinewidth": 0,
             "ticks": ""
            },
            "colorscale": [
             [
              0,
              "#0d0887"
             ],
             [
              0.1111111111111111,
              "#46039f"
             ],
             [
              0.2222222222222222,
              "#7201a8"
             ],
             [
              0.3333333333333333,
              "#9c179e"
             ],
             [
              0.4444444444444444,
              "#bd3786"
             ],
             [
              0.5555555555555556,
              "#d8576b"
             ],
             [
              0.6666666666666666,
              "#ed7953"
             ],
             [
              0.7777777777777778,
              "#fb9f3a"
             ],
             [
              0.8888888888888888,
              "#fdca26"
             ],
             [
              1,
              "#f0f921"
             ]
            ],
            "type": "surface"
           }
          ],
          "table": [
           {
            "cells": {
             "fill": {
              "color": "#EBF0F8"
             },
             "line": {
              "color": "white"
             }
            },
            "header": {
             "fill": {
              "color": "#C8D4E3"
             },
             "line": {
              "color": "white"
             }
            },
            "type": "table"
           }
          ]
         },
         "layout": {
          "annotationdefaults": {
           "arrowcolor": "#2a3f5f",
           "arrowhead": 0,
           "arrowwidth": 1
          },
          "autotypenumbers": "strict",
          "coloraxis": {
           "colorbar": {
            "outlinewidth": 0,
            "ticks": ""
           }
          },
          "colorscale": {
           "diverging": [
            [
             0,
             "#8e0152"
            ],
            [
             0.1,
             "#c51b7d"
            ],
            [
             0.2,
             "#de77ae"
            ],
            [
             0.3,
             "#f1b6da"
            ],
            [
             0.4,
             "#fde0ef"
            ],
            [
             0.5,
             "#f7f7f7"
            ],
            [
             0.6,
             "#e6f5d0"
            ],
            [
             0.7,
             "#b8e186"
            ],
            [
             0.8,
             "#7fbc41"
            ],
            [
             0.9,
             "#4d9221"
            ],
            [
             1,
             "#276419"
            ]
           ],
           "sequential": [
            [
             0,
             "#0d0887"
            ],
            [
             0.1111111111111111,
             "#46039f"
            ],
            [
             0.2222222222222222,
             "#7201a8"
            ],
            [
             0.3333333333333333,
             "#9c179e"
            ],
            [
             0.4444444444444444,
             "#bd3786"
            ],
            [
             0.5555555555555556,
             "#d8576b"
            ],
            [
             0.6666666666666666,
             "#ed7953"
            ],
            [
             0.7777777777777778,
             "#fb9f3a"
            ],
            [
             0.8888888888888888,
             "#fdca26"
            ],
            [
             1,
             "#f0f921"
            ]
           ],
           "sequentialminus": [
            [
             0,
             "#0d0887"
            ],
            [
             0.1111111111111111,
             "#46039f"
            ],
            [
             0.2222222222222222,
             "#7201a8"
            ],
            [
             0.3333333333333333,
             "#9c179e"
            ],
            [
             0.4444444444444444,
             "#bd3786"
            ],
            [
             0.5555555555555556,
             "#d8576b"
            ],
            [
             0.6666666666666666,
             "#ed7953"
            ],
            [
             0.7777777777777778,
             "#fb9f3a"
            ],
            [
             0.8888888888888888,
             "#fdca26"
            ],
            [
             1,
             "#f0f921"
            ]
           ]
          },
          "colorway": [
           "#636efa",
           "#EF553B",
           "#00cc96",
           "#ab63fa",
           "#FFA15A",
           "#19d3f3",
           "#FF6692",
           "#B6E880",
           "#FF97FF",
           "#FECB52"
          ],
          "font": {
           "color": "#2a3f5f"
          },
          "geo": {
           "bgcolor": "white",
           "lakecolor": "white",
           "landcolor": "white",
           "showlakes": true,
           "showland": true,
           "subunitcolor": "#C8D4E3"
          },
          "hoverlabel": {
           "align": "left"
          },
          "hovermode": "closest",
          "mapbox": {
           "style": "light"
          },
          "paper_bgcolor": "white",
          "plot_bgcolor": "white",
          "polar": {
           "angularaxis": {
            "gridcolor": "#EBF0F8",
            "linecolor": "#EBF0F8",
            "ticks": ""
           },
           "bgcolor": "white",
           "radialaxis": {
            "gridcolor": "#EBF0F8",
            "linecolor": "#EBF0F8",
            "ticks": ""
           }
          },
          "scene": {
           "xaxis": {
            "backgroundcolor": "white",
            "gridcolor": "#DFE8F3",
            "gridwidth": 2,
            "linecolor": "#EBF0F8",
            "showbackground": true,
            "ticks": "",
            "zerolinecolor": "#EBF0F8"
           },
           "yaxis": {
            "backgroundcolor": "white",
            "gridcolor": "#DFE8F3",
            "gridwidth": 2,
            "linecolor": "#EBF0F8",
            "showbackground": true,
            "ticks": "",
            "zerolinecolor": "#EBF0F8"
           },
           "zaxis": {
            "backgroundcolor": "white",
            "gridcolor": "#DFE8F3",
            "gridwidth": 2,
            "linecolor": "#EBF0F8",
            "showbackground": true,
            "ticks": "",
            "zerolinecolor": "#EBF0F8"
           }
          },
          "shapedefaults": {
           "line": {
            "color": "#2a3f5f"
           }
          },
          "ternary": {
           "aaxis": {
            "gridcolor": "#DFE8F3",
            "linecolor": "#A2B1C6",
            "ticks": ""
           },
           "baxis": {
            "gridcolor": "#DFE8F3",
            "linecolor": "#A2B1C6",
            "ticks": ""
           },
           "bgcolor": "white",
           "caxis": {
            "gridcolor": "#DFE8F3",
            "linecolor": "#A2B1C6",
            "ticks": ""
           }
          },
          "title": {
           "x": 0.05
          },
          "xaxis": {
           "automargin": true,
           "gridcolor": "#EBF0F8",
           "linecolor": "#EBF0F8",
           "ticks": "",
           "title": {
            "standoff": 15
           },
           "zerolinecolor": "#EBF0F8",
           "zerolinewidth": 2
          },
          "yaxis": {
           "automargin": true,
           "gridcolor": "#EBF0F8",
           "linecolor": "#EBF0F8",
           "ticks": "",
           "title": {
            "standoff": 15
           },
           "zerolinecolor": "#EBF0F8",
           "zerolinewidth": 2
          }
         }
        },
        "title": {
         "text": "First target: 1/17-1/21"
        },
        "width": 800,
        "xaxis": {
         "anchor": "y",
         "domain": [
          0,
          1
         ],
         "showgrid": false,
         "tickprefix": "$",
         "title": {
          "text": "Representative Price"
         }
        },
        "yaxis": {
         "anchor": "x",
         "domain": [
          0,
          1
         ],
         "showgrid": false,
         "title": {
          "text": "Ordered Product Quantity"
         }
        }
       }
      },
      "text/html": [
       "<div>                            <div id=\"1192f504-fe61-419b-9a14-8c93abec0ba5\" class=\"plotly-graph-div\" style=\"height:600px; width:800px;\"></div>            <script type=\"text/javascript\">                require([\"plotly\"], function(Plotly) {                    window.PLOTLYENV=window.PLOTLYENV || {};                                    if (document.getElementById(\"1192f504-fe61-419b-9a14-8c93abec0ba5\")) {                    Plotly.newPlot(                        \"1192f504-fe61-419b-9a14-8c93abec0ba5\",                        [{\"hovertemplate\":\"color=Cumple la condici\\u00f3n<br>x=%{x}<br>y=%{y}<br>size=%{marker.size}<extra></extra>\",\"legendgroup\":\"Cumple la condici\\u00f3n\",\"marker\":{\"color\":\"#636efa\",\"size\":[1413,3598,3718,4337,3399,3139,3226,3533,3444,3604,4177,3678,3783,3603,3331,2818,3004,2999,2466,3004,3851,4979,4034,3913,4705,4413,3849,4841,4987,3391,3828,4451,4895,3645,4559,4896,4449,4034,4658,3912,3900,4716,4893,3315,1658,1739,1454,1449,1358,1816,3974,3110,1749,2359,2409,2302,3149,3625,2204,2001,1682,2430,2707,3014,2430,2544,2608,2973,2947,3792,4873,4952,4997,3980,3474,3792,4675,3794,3674,3334,3448,4131,4969,3926,3908,4069,4379,4192,4594,4444,4184,4365,4435,4551,4587,4862,4990,4661,3843,4009,4410,4394,4967,4572,3914,3566,3726,4419,3989,4240,3786,4770,4609,4481,4464,4747,4979,4432,4188,4245,4612,3993,4434,4701,4763,3906,3787,4371,4699,3780,3508,4121,3618,3816,4233,4541,3928,4239,3885,4783,4325,4265,4817,4175,4243,3494,3210,3374,3864,4822,3442,3125,3059,3784,3674,4354,4037,3790,3736,3625,4577,3805,3938,3843,4015,4528,4125,3745,4050,4673,4410,4375,3814,3558,4486,4038,3416,3676,4986,3442,3236,3188,4232,3810,3308,3070,2892,2966,3618,4420,3379,3033,2939,2839,2655,3022,3971,3223,2549,2654,3567,4105,4930,3944,3776,3232,2837,2754,2758,3605,2955,2476,2654,2705,2616,3199,3903,2811,2822,3139,3024,2788,2857,3422,3326,2604,2839,2685,2906,2719,3198,2467,2131,2276,4018,3368,3698,4243,3963,3286,3655,4598,4235,3603,3498],\"sizemode\":\"area\",\"sizeref\":57.39,\"symbol\":\"circle\"},\"mode\":\"markers\",\"name\":\"Cumple la condici\\u00f3n\",\"orientation\":\"v\",\"showlegend\":true,\"x\":[100.0,100.0,100.0,100.0,100.0,100.0,100.0,100.0,100.0,100.0,100.0,100.0,100.0,100.0,100.0,110.0,110.0,99.0,110.0,102.7,88.0,90.0,90.0,90.0,90.0,90.0,90.0,90.0,90.0,90.0,90.0,90.0,90.0,100.0,100.0,100.0,100.0,100.0,106.7,100.0,100.0,100.0,100.0,100.0,100.0,100.0,100.0,100.0,100.0,100.0,86.7,100.0,66.7,100.0,100.0,100.0,100.0,100.0,100.0,100.0,100.0,100.0,100.0,100.0,100.0,100.0,100.0,100.0,100.0,100.0,100.0,100.0,100.0,100.0,100.0,100.0,100.0,100.0,99.9,99.9,99.9,99.9,99.9,99.9,99.9,99.9,99.9,99.9,99.9,99.9,99.9,99.9,99.9,99.9,99.9,99.9,99.9,99.9,102.7,101.2,103.1,107.5,95.3,95.7,96.1,99.5,99.4,99.9,75.0,105.0,103.3,103.3,102.5,102.5,78.8,112.1,102.5,88.2,89.4,104.3,105.0,105.0,102.0,97.0,105.0,105.0,105.0,105.0,105.0,105.0,105.0,105.0,104.9,105.0,105.0,105.0,105.0,105.0,105.0,112.8,105.0,105.0,105.0,105.0,73.2,105.0,105.0,105.0,105.0,105.1,77.7,105.0,105.0,105.0,103.3,99.3,105.0,105.0,97.5,91.1,99.9,95.4,101.2,100.2,91.8,102.0,107.9,97.5,101.9,105.0,105.0,105.0,105.0,105.0,105.0,105.0,105.0,105.0,97.4,97.4,92.5,97.0,94.6,98.8,77.7,73.0,73.0,97.4,92.0,97.4,93.8,90.7,97.4,97.4,97.4,97.4,97.4,97.4,97.4,97.4,90.0,90.0,90.0,90.0,90.0,97.4,90.0,90.0,90.0,90.0,90.0,90.0,90.0,90.0,90.0,90.0,90.0,90.0,90.0,90.0,90.0,90.0,90.0,90.0,90.0,90.0,90.0,90.0,90.0,90.0,90.0,89.9,89.9,90.0,80.0,80.0,80.0,80.0,80.0,80.0,80.0,80.0,80.0,80.0,80.0],\"xaxis\":\"x\",\"y\":[89,356,362,451,377,298,298,369,338,344,405,337,378,350,317,280,317,384,267,315,332,479,423,412,464,448,431,571,600,430,463,535,639,434,496,548,516,546,644,478,547,610,591,442,204,191,174,179,123,195,386,312,275,241,272,223,253,337,217,88,183,216,224,244,223,225,211,249,284,285,342,375,305,316,268,312,308,253,272,290,313,390,477,338,377,428,410,430,448,405,363,437,426,377,410,433,412,490,429,424,489,515,449,456,417,380,456,441,428,414,398,432,444,449,483,533,487,454,400,447,520,496,565,570,650,623,574,624,662,569,531,456,537,544,545,502,492,448,457,505,480,488,560,539,655,458,450,466,509,628,519,459,436,469,500,519,432,418,448,431,488,441,437,444,443,455,457,380,377,426,416,382,405,443,462,467,349,386,508,381,353,371,453,428,382,331,334,344,417,523,391,366,289,307,303,293,352,300,250,295,393,370,464,420,357,265,258,251,289,407,323,310,221,210,214,243,284,210,190,181,260,240,246,323,261,207,237,210,234,256,325,228,207,208,353,320,356,385,329,325,326,385,435,380,396],\"yaxis\":\"y\",\"type\":\"scatter\"},{\"hovertemplate\":\"<b>OLS trendline</b><br>y = 3.21968 * x + 73.7108<br>R<sup>2</sup>=0.048452<br><br>color=Cumple la condici\\u00f3n<br>x=%{x}<br>y=%{y} <b>(trend)</b><extra></extra>\",\"legendgroup\":\"Cumple la condici\\u00f3n\",\"marker\":{\"color\":\"#636efa\",\"symbol\":\"circle\"},\"mode\":\"lines\",\"name\":\"Cumple la condici\\u00f3n\",\"showlegend\":false,\"x\":[66.7,73.0,73.0,73.2,75.0,77.7,77.7,78.8,80.0,80.0,80.0,80.0,80.0,80.0,80.0,80.0,80.0,80.0,80.0,86.7,88.0,88.2,89.4,89.9,89.9,90.0,90.0,90.0,90.0,90.0,90.0,90.0,90.0,90.0,90.0,90.0,90.0,90.0,90.0,90.0,90.0,90.0,90.0,90.0,90.0,90.0,90.0,90.0,90.0,90.0,90.0,90.0,90.0,90.0,90.0,90.0,90.0,90.0,90.0,90.0,90.0,90.0,90.0,90.0,90.0,90.0,90.0,90.0,90.7,91.1,91.8,92.0,92.5,93.8,94.6,95.3,95.4,95.7,96.1,97.0,97.0,97.4,97.4,97.4,97.4,97.4,97.4,97.4,97.4,97.4,97.4,97.4,97.4,97.4,97.5,97.5,98.8,99.0,99.3,99.4,99.5,99.9,99.9,99.9,99.9,99.9,99.9,99.9,99.9,99.9,99.9,99.9,99.9,99.9,99.9,99.9,99.9,99.9,99.9,99.9,99.9,99.9,99.9,100.0,100.0,100.0,100.0,100.0,100.0,100.0,100.0,100.0,100.0,100.0,100.0,100.0,100.0,100.0,100.0,100.0,100.0,100.0,100.0,100.0,100.0,100.0,100.0,100.0,100.0,100.0,100.0,100.0,100.0,100.0,100.0,100.0,100.0,100.0,100.0,100.0,100.0,100.0,100.0,100.0,100.0,100.0,100.0,100.0,100.0,100.0,100.0,100.0,100.0,100.0,100.0,100.0,100.0,100.0,100.0,100.0,100.2,101.2,101.2,101.9,102.0,102.0,102.5,102.5,102.5,102.7,102.7,103.1,103.3,103.3,103.3,104.3,104.9,105.0,105.0,105.0,105.0,105.0,105.0,105.0,105.0,105.0,105.0,105.0,105.0,105.0,105.0,105.0,105.0,105.0,105.0,105.0,105.0,105.0,105.0,105.0,105.0,105.0,105.0,105.0,105.0,105.0,105.0,105.0,105.0,105.0,105.0,105.0,105.0,105.0,105.0,105.0,105.1,106.7,107.5,107.9,110.0,110.0,110.0,112.1,112.8],\"xaxis\":\"x\",\"y\":[288.4636469337947,308.7476457713187,308.7476457713187,309.3915822423512,315.1870104816438,323.8801528405827,323.8801528405827,327.4218034312615,331.28542225745656,331.28542225745656,331.28542225745656,331.28542225745656,331.28542225745656,331.28542225745656,331.28542225745656,331.28542225745656,331.28542225745656,331.28542225745656,331.28542225745656,352.8572940370456,357.04288109875694,357.68681756978947,361.55043639598455,363.1602775735658,363.1602775735658,363.48224580908203,363.48224580908203,363.48224580908203,363.48224580908203,363.48224580908203,363.48224580908203,363.48224580908203,363.48224580908203,363.48224580908203,363.48224580908203,363.48224580908203,363.48224580908203,363.48224580908203,363.48224580908203,363.48224580908203,363.48224580908203,363.48224580908203,363.48224580908203,363.48224580908203,363.48224580908203,363.48224580908203,363.48224580908203,363.48224580908203,363.48224580908203,363.48224580908203,363.48224580908203,363.48224580908203,363.48224580908203,363.48224580908203,363.48224580908203,363.48224580908203,363.48224580908203,363.48224580908203,363.48224580908203,363.48224580908203,363.48224580908203,363.48224580908203,363.48224580908203,363.48224580908203,363.48224580908203,363.48224580908203,363.48224580908203,363.48224580908203,365.7360234576958,367.0238963997608,369.2776740483746,369.9216105194071,371.5314516969884,375.7170387586997,378.29278464282976,380.54656229144354,380.86853052695983,381.8344352335086,383.12230817557355,386.02002229521986,386.02002229521986,387.3078952372849,387.3078952372849,387.3078952372849,387.3078952372849,387.3078952372849,387.3078952372849,387.3078952372849,387.3078952372849,387.3078952372849,387.3078952372849,387.3078952372849,387.3078952372849,387.3078952372849,387.62986347280116,387.62986347280116,391.8154505345125,392.45938700554495,393.4252917120937,393.74725994761,394.06922818312626,395.35710112519126,395.35710112519126,395.35710112519126,395.35710112519126,395.35710112519126,395.35710112519126,395.35710112519126,395.35710112519126,395.35710112519126,395.35710112519126,395.35710112519126,395.35710112519126,395.35710112519126,395.35710112519126,395.35710112519126,395.35710112519126,395.35710112519126,395.35710112519126,395.35710112519126,395.35710112519126,395.35710112519126,395.35710112519126,395.6790693607075,395.6790693607075,395.6790693607075,395.6790693607075,395.6790693607075,395.6790693607075,395.6790693607075,395.6790693607075,395.6790693607075,395.6790693607075,395.6790693607075,395.6790693607075,395.6790693607075,395.6790693607075,395.6790693607075,395.6790693607075,395.6790693607075,395.6790693607075,395.6790693607075,395.6790693607075,395.6790693607075,395.6790693607075,395.6790693607075,395.6790693607075,395.6790693607075,395.6790693607075,395.6790693607075,395.6790693607075,395.6790693607075,395.6790693607075,395.6790693607075,395.6790693607075,395.6790693607075,395.6790693607075,395.6790693607075,395.6790693607075,395.6790693607075,395.6790693607075,395.6790693607075,395.6790693607075,395.6790693607075,395.6790693607075,395.6790693607075,395.6790693607075,395.6790693607075,395.6790693607075,395.6790693607075,395.6790693607075,395.6790693607075,395.6790693607075,395.6790693607075,395.6790693607075,395.6790693607075,395.6790693607075,395.6790693607075,395.6790693607075,395.6790693607075,396.32300583174003,399.5426881869026,399.5426881869026,401.79646583551636,402.1184340710326,402.1184340710326,403.7282752486139,403.7282752486139,403.7282752486139,404.37221171964643,404.37221171964643,405.6600846617114,406.3040211327439,406.3040211327439,406.3040211327439,409.52370348790646,411.455512901004,411.77748113652024,411.77748113652024,411.77748113652024,411.77748113652024,411.77748113652024,411.77748113652024,411.77748113652024,411.77748113652024,411.77748113652024,411.77748113652024,411.77748113652024,411.77748113652024,411.77748113652024,411.77748113652024,411.77748113652024,411.77748113652024,411.77748113652024,411.77748113652024,411.77748113652024,411.77748113652024,411.77748113652024,411.77748113652024,411.77748113652024,411.77748113652024,411.77748113652024,411.77748113652024,411.77748113652024,411.77748113652024,411.77748113652024,411.77748113652024,411.77748113652024,411.77748113652024,411.77748113652024,411.77748113652024,411.77748113652024,411.77748113652024,411.77748113652024,411.77748113652024,411.77748113652024,412.0994493720365,417.2509411402966,419.82668702442663,421.1145599664917,427.87589291233303,427.87589291233303,427.87589291233303,434.63722585817436,436.89100350678814],\"yaxis\":\"y\",\"type\":\"scatter\"},{\"hovertemplate\":\"color=No cumple<br>x=%{x}<br>y=%{y}<br>size=%{marker.size}<extra></extra>\",\"legendgroup\":\"No cumple\",\"marker\":{\"color\":\"#EF553B\",\"size\":[8220,6458,6322,7374,5796,5390,6374,5052,5849,5551,7024,7677,5364,5183,8449,17424,11402,15805,17213,6788,5465,5290,5277,6183,5332,5215,5031,5521,5412,6572,5568,6108,6340,6892,9246,11374,8857,7029,5521,5368,5512,7034,6257,5763,6351,5423,5952,7391,8135,6036,5892,5460,5459,5552,6701,7548,6168,5535,5368,6644,6173,7635,5440,5516,5057,5737,7403,8208,6146,6418,5556,5200,5153,7226,9435,7287,6302,6625,7343,6238,6362,7213,5579,5156,5204,6105,6099,9956,13919,7146,5108,6102,6519,5367,6042,5101,5542,6436,5389,5343,6734,5660,5903,6113,6263,7279,10507,13326,16761,8941,6201,5501,5956,5113,5179,5055,5681,7382,6328,5108,5650,5167,6864,6127,8830,10037,8990,9101,7185,5006,5962,6659,6820,5562,5006,5911,5799,5372,5456,6922,7112,8466,9342,5925,5274,7945,9198,8347,5252,5359,6339,6194,5901,7927,11723,6486,5156,5741,6896,6127,8226,11921,6073,7076,12250,22956,9825,8981,11714,7678],\"sizemode\":\"area\",\"sizeref\":57.39,\"symbol\":\"circle\"},\"mode\":\"markers\",\"name\":\"No cumple\",\"orientation\":\"v\",\"showlegend\":true,\"x\":[90.0,90.0,90.0,90.0,90.0,90.0,90.0,90.0,89.6,90.0,90.0,95.8,90.0,90.0,90.7,92.8,94.4,89.6,91.4,90.0,90.0,100.0,101.9,100.0,100.0,100.0,99.9,99.9,99.9,99.9,99.9,99.9,99.9,99.9,99.9,99.9,99.9,99.9,99.9,99.9,99.9,99.9,99.9,99.9,99.9,99.9,99.9,103.7,99.9,99.9,99.9,99.9,99.9,99.9,99.9,98.2,99.9,99.9,99.9,99.9,99.9,99.9,99.9,99.9,99.9,99.9,99.9,99.9,99.9,99.9,99.9,99.9,99.9,99.9,99.9,99.9,99.9,99.9,120.0,99.3,96.6,99.9,99.9,99.9,99.9,99.9,99.9,99.9,99.9,99.9,110.2,101.6,108.2,102.4,109.2,96.7,85.0,104.7,83.1,95.0,102.5,107.0,100.6,105.0,110.0,105.0,93.0,92.0,89.0,91.5,105.0,105.0,101.5,105.0,105.0,97.0,97.0,97.0,97.0,105.0,105.0,114.9,97.0,98.8,91.1,93.2,94.7,91.2,86.8,103.0,105.9,109.7,98.1,102.4,105.0,99.7,100.2,101.7,98.6,12.3,97.5,97.5,103.0,105.0,97.4,99.8,89.3,98.0,95.0,95.1,90.0,75.0,75.0,79.5,78.3,80.0,80.0,80.0,80.0,80.0,86.4,80.0,80.0,80.0,80.0,82.6,85.1,82.4,80.0,80.0],\"xaxis\":\"x\",\"y\":[840,678,645,1037,677,529,644,591,665,593,633,741,635,607,938,2554,1388,1671,2555,785,638,692,751,581,301,351,510,524,499,546,409,492,548,622,777,923,718,553,441,454,505,618,600,528,508,494,520,614,669,501,521,496,501,490,607,699,536,474,492,499,534,654,421,423,438,460,512,613,492,448,489,429,483,622,688,548,520,500,409,393,507,524,541,551,486,615,623,875,1328,764,464,606,679,482,533,532,511,637,465,523,605,599,460,458,577,642,1337,1704,2027,1142,570,632,727,510,572,522,696,940,802,661,714,727,607,677,1074,1360,1153,1496,963,548,658,680,775,712,607,658,679,487,426,706,542,703,947,613,507,764,907,1022,624,611,597,679,616,789,1083,631,407,489,492,536,721,647,566,714,1048,2724,1139,1198,1860,815],\"yaxis\":\"y\",\"type\":\"scatter\"},{\"hovertemplate\":\"<b>OLS trendline</b><br>y = -9.3772 * x + 1611.17<br>R<sup>2</sup>=0.064884<br><br>color=No cumple<br>x=%{x}<br>y=%{y} <b>(trend)</b><extra></extra>\",\"legendgroup\":\"No cumple\",\"marker\":{\"color\":\"#EF553B\",\"symbol\":\"circle\"},\"mode\":\"lines\",\"name\":\"No cumple\",\"showlegend\":false,\"x\":[12.3,75.0,75.0,78.3,79.5,80.0,80.0,80.0,80.0,80.0,80.0,80.0,80.0,80.0,80.0,80.0,82.4,82.6,83.1,85.0,85.1,86.4,86.8,89.0,89.3,89.6,89.6,90.0,90.0,90.0,90.0,90.0,90.0,90.0,90.0,90.0,90.0,90.0,90.0,90.0,90.0,90.0,90.7,91.1,91.2,91.4,91.5,92.0,92.8,93.0,93.2,94.4,94.7,95.0,95.0,95.1,95.8,96.6,96.7,97.0,97.0,97.0,97.0,97.0,97.4,97.5,97.5,98.0,98.1,98.2,98.6,98.8,99.3,99.7,99.8,99.9,99.9,99.9,99.9,99.9,99.9,99.9,99.9,99.9,99.9,99.9,99.9,99.9,99.9,99.9,99.9,99.9,99.9,99.9,99.9,99.9,99.9,99.9,99.9,99.9,99.9,99.9,99.9,99.9,99.9,99.9,99.9,99.9,99.9,99.9,99.9,99.9,99.9,99.9,99.9,99.9,99.9,99.9,99.9,99.9,99.9,99.9,99.9,99.9,99.9,99.9,99.9,99.9,99.9,99.9,99.9,99.9,99.9,99.9,100.0,100.0,100.0,100.0,100.2,100.6,101.5,101.6,101.7,101.9,102.4,102.4,102.5,103.0,103.0,103.7,104.7,105.0,105.0,105.0,105.0,105.0,105.0,105.0,105.0,105.0,105.0,105.9,107.0,108.2,109.2,109.7,110.0,110.2,114.9,120.0],\"xaxis\":\"x\",\"y\":[1495.8281720073674,907.8775741341345,907.8775741341345,876.932805825017,865.6801628035197,860.9915615445625,860.9915615445625,860.9915615445625,860.9915615445625,860.9915615445625,860.9915615445625,860.9915615445625,860.9915615445625,860.9915615445625,860.9915615445625,860.9915615445625,838.4862755015679,836.6108349979851,831.9222337390279,814.1055489549905,813.1678287031991,800.9774654299104,797.2265844227446,776.5967388833329,773.7835781279587,770.9704173725843,770.9704173725843,767.2195363654185,767.2195363654185,767.2195363654185,767.2195363654185,767.2195363654185,767.2195363654185,767.2195363654185,767.2195363654185,767.2195363654185,767.2195363654185,767.2195363654185,767.2195363654185,767.2195363654185,767.2195363654185,767.2195363654185,760.6554946028784,756.9046135957127,755.9668933439212,754.0914528403383,753.153732588547,748.4651313295897,740.9633693152582,739.0879288116753,737.2124883080925,725.9598452865952,723.1466845312208,720.3335237758465,720.3335237758465,719.3958035240552,712.831761761515,705.3299997471836,704.392279495392,701.5791187400177,701.5791187400177,701.5791187400177,701.5791187400177,701.5791187400177,697.8282377328519,696.8905174810606,696.8905174810606,692.2019162221034,691.2641959703119,690.3264757185204,686.5755947113547,684.7001542077718,680.0115529488146,676.2606719416489,675.3229516898574,674.385231438066,674.385231438066,674.385231438066,674.385231438066,674.385231438066,674.385231438066,674.385231438066,674.385231438066,674.385231438066,674.385231438066,674.385231438066,674.385231438066,674.385231438066,674.385231438066,674.385231438066,674.385231438066,674.385231438066,674.385231438066,674.385231438066,674.385231438066,674.385231438066,674.385231438066,674.385231438066,674.385231438066,674.385231438066,674.385231438066,674.385231438066,674.385231438066,674.385231438066,674.385231438066,674.385231438066,674.385231438066,674.385231438066,674.385231438066,674.385231438066,674.385231438066,674.385231438066,674.385231438066,674.385231438066,674.385231438066,674.385231438066,674.385231438066,674.385231438066,674.385231438066,674.385231438066,674.385231438066,674.385231438066,674.385231438066,674.385231438066,674.385231438066,674.385231438066,674.385231438066,674.385231438066,674.385231438066,674.385231438066,674.385231438066,674.385231438066,674.385231438066,674.385231438066,673.4475111862746,673.4475111862746,673.4475111862746,673.4475111862746,671.5720706826917,667.8211896755259,659.3817074094029,658.4439871576116,657.50626690582,655.6308264022372,650.94222514328,650.94222514328,650.0045048914885,645.3159036325313,645.3159036325313,638.7518618699912,629.3746593520768,626.5614985967026,626.5614985967026,626.5614985967026,626.5614985967026,626.5614985967026,626.5614985967026,626.5614985967026,626.5614985967026,626.5614985967026,626.5614985967026,618.1220163305795,607.8070935608738,596.5544505393765,587.1772480214621,582.4886467625049,579.6754860071305,577.8000455035476,533.7271936693498,485.90346082798646],\"yaxis\":\"y\",\"type\":\"scatter\"}],                        {\"template\":{\"data\":{\"barpolar\":[{\"marker\":{\"line\":{\"color\":\"white\",\"width\":0.5},\"pattern\":{\"fillmode\":\"overlay\",\"size\":10,\"solidity\":0.2}},\"type\":\"barpolar\"}],\"bar\":[{\"error_x\":{\"color\":\"#2a3f5f\"},\"error_y\":{\"color\":\"#2a3f5f\"},\"marker\":{\"line\":{\"color\":\"white\",\"width\":0.5},\"pattern\":{\"fillmode\":\"overlay\",\"size\":10,\"solidity\":0.2}},\"type\":\"bar\"}],\"carpet\":[{\"aaxis\":{\"endlinecolor\":\"#2a3f5f\",\"gridcolor\":\"#C8D4E3\",\"linecolor\":\"#C8D4E3\",\"minorgridcolor\":\"#C8D4E3\",\"startlinecolor\":\"#2a3f5f\"},\"baxis\":{\"endlinecolor\":\"#2a3f5f\",\"gridcolor\":\"#C8D4E3\",\"linecolor\":\"#C8D4E3\",\"minorgridcolor\":\"#C8D4E3\",\"startlinecolor\":\"#2a3f5f\"},\"type\":\"carpet\"}],\"choropleth\":[{\"colorbar\":{\"outlinewidth\":0,\"ticks\":\"\"},\"type\":\"choropleth\"}],\"contourcarpet\":[{\"colorbar\":{\"outlinewidth\":0,\"ticks\":\"\"},\"type\":\"contourcarpet\"}],\"contour\":[{\"colorbar\":{\"outlinewidth\":0,\"ticks\":\"\"},\"colorscale\":[[0.0,\"#0d0887\"],[0.1111111111111111,\"#46039f\"],[0.2222222222222222,\"#7201a8\"],[0.3333333333333333,\"#9c179e\"],[0.4444444444444444,\"#bd3786\"],[0.5555555555555556,\"#d8576b\"],[0.6666666666666666,\"#ed7953\"],[0.7777777777777778,\"#fb9f3a\"],[0.8888888888888888,\"#fdca26\"],[1.0,\"#f0f921\"]],\"type\":\"contour\"}],\"heatmapgl\":[{\"colorbar\":{\"outlinewidth\":0,\"ticks\":\"\"},\"colorscale\":[[0.0,\"#0d0887\"],[0.1111111111111111,\"#46039f\"],[0.2222222222222222,\"#7201a8\"],[0.3333333333333333,\"#9c179e\"],[0.4444444444444444,\"#bd3786\"],[0.5555555555555556,\"#d8576b\"],[0.6666666666666666,\"#ed7953\"],[0.7777777777777778,\"#fb9f3a\"],[0.8888888888888888,\"#fdca26\"],[1.0,\"#f0f921\"]],\"type\":\"heatmapgl\"}],\"heatmap\":[{\"colorbar\":{\"outlinewidth\":0,\"ticks\":\"\"},\"colorscale\":[[0.0,\"#0d0887\"],[0.1111111111111111,\"#46039f\"],[0.2222222222222222,\"#7201a8\"],[0.3333333333333333,\"#9c179e\"],[0.4444444444444444,\"#bd3786\"],[0.5555555555555556,\"#d8576b\"],[0.6666666666666666,\"#ed7953\"],[0.7777777777777778,\"#fb9f3a\"],[0.8888888888888888,\"#fdca26\"],[1.0,\"#f0f921\"]],\"type\":\"heatmap\"}],\"histogram2dcontour\":[{\"colorbar\":{\"outlinewidth\":0,\"ticks\":\"\"},\"colorscale\":[[0.0,\"#0d0887\"],[0.1111111111111111,\"#46039f\"],[0.2222222222222222,\"#7201a8\"],[0.3333333333333333,\"#9c179e\"],[0.4444444444444444,\"#bd3786\"],[0.5555555555555556,\"#d8576b\"],[0.6666666666666666,\"#ed7953\"],[0.7777777777777778,\"#fb9f3a\"],[0.8888888888888888,\"#fdca26\"],[1.0,\"#f0f921\"]],\"type\":\"histogram2dcontour\"}],\"histogram2d\":[{\"colorbar\":{\"outlinewidth\":0,\"ticks\":\"\"},\"colorscale\":[[0.0,\"#0d0887\"],[0.1111111111111111,\"#46039f\"],[0.2222222222222222,\"#7201a8\"],[0.3333333333333333,\"#9c179e\"],[0.4444444444444444,\"#bd3786\"],[0.5555555555555556,\"#d8576b\"],[0.6666666666666666,\"#ed7953\"],[0.7777777777777778,\"#fb9f3a\"],[0.8888888888888888,\"#fdca26\"],[1.0,\"#f0f921\"]],\"type\":\"histogram2d\"}],\"histogram\":[{\"marker\":{\"pattern\":{\"fillmode\":\"overlay\",\"size\":10,\"solidity\":0.2}},\"type\":\"histogram\"}],\"mesh3d\":[{\"colorbar\":{\"outlinewidth\":0,\"ticks\":\"\"},\"type\":\"mesh3d\"}],\"parcoords\":[{\"line\":{\"colorbar\":{\"outlinewidth\":0,\"ticks\":\"\"}},\"type\":\"parcoords\"}],\"pie\":[{\"automargin\":true,\"type\":\"pie\"}],\"scatter3d\":[{\"line\":{\"colorbar\":{\"outlinewidth\":0,\"ticks\":\"\"}},\"marker\":{\"colorbar\":{\"outlinewidth\":0,\"ticks\":\"\"}},\"type\":\"scatter3d\"}],\"scattercarpet\":[{\"marker\":{\"colorbar\":{\"outlinewidth\":0,\"ticks\":\"\"}},\"type\":\"scattercarpet\"}],\"scattergeo\":[{\"marker\":{\"colorbar\":{\"outlinewidth\":0,\"ticks\":\"\"}},\"type\":\"scattergeo\"}],\"scattergl\":[{\"marker\":{\"colorbar\":{\"outlinewidth\":0,\"ticks\":\"\"}},\"type\":\"scattergl\"}],\"scattermapbox\":[{\"marker\":{\"colorbar\":{\"outlinewidth\":0,\"ticks\":\"\"}},\"type\":\"scattermapbox\"}],\"scatterpolargl\":[{\"marker\":{\"colorbar\":{\"outlinewidth\":0,\"ticks\":\"\"}},\"type\":\"scatterpolargl\"}],\"scatterpolar\":[{\"marker\":{\"colorbar\":{\"outlinewidth\":0,\"ticks\":\"\"}},\"type\":\"scatterpolar\"}],\"scatter\":[{\"marker\":{\"colorbar\":{\"outlinewidth\":0,\"ticks\":\"\"}},\"type\":\"scatter\"}],\"scatterternary\":[{\"marker\":{\"colorbar\":{\"outlinewidth\":0,\"ticks\":\"\"}},\"type\":\"scatterternary\"}],\"surface\":[{\"colorbar\":{\"outlinewidth\":0,\"ticks\":\"\"},\"colorscale\":[[0.0,\"#0d0887\"],[0.1111111111111111,\"#46039f\"],[0.2222222222222222,\"#7201a8\"],[0.3333333333333333,\"#9c179e\"],[0.4444444444444444,\"#bd3786\"],[0.5555555555555556,\"#d8576b\"],[0.6666666666666666,\"#ed7953\"],[0.7777777777777778,\"#fb9f3a\"],[0.8888888888888888,\"#fdca26\"],[1.0,\"#f0f921\"]],\"type\":\"surface\"}],\"table\":[{\"cells\":{\"fill\":{\"color\":\"#EBF0F8\"},\"line\":{\"color\":\"white\"}},\"header\":{\"fill\":{\"color\":\"#C8D4E3\"},\"line\":{\"color\":\"white\"}},\"type\":\"table\"}]},\"layout\":{\"annotationdefaults\":{\"arrowcolor\":\"#2a3f5f\",\"arrowhead\":0,\"arrowwidth\":1},\"autotypenumbers\":\"strict\",\"coloraxis\":{\"colorbar\":{\"outlinewidth\":0,\"ticks\":\"\"}},\"colorscale\":{\"diverging\":[[0,\"#8e0152\"],[0.1,\"#c51b7d\"],[0.2,\"#de77ae\"],[0.3,\"#f1b6da\"],[0.4,\"#fde0ef\"],[0.5,\"#f7f7f7\"],[0.6,\"#e6f5d0\"],[0.7,\"#b8e186\"],[0.8,\"#7fbc41\"],[0.9,\"#4d9221\"],[1,\"#276419\"]],\"sequential\":[[0.0,\"#0d0887\"],[0.1111111111111111,\"#46039f\"],[0.2222222222222222,\"#7201a8\"],[0.3333333333333333,\"#9c179e\"],[0.4444444444444444,\"#bd3786\"],[0.5555555555555556,\"#d8576b\"],[0.6666666666666666,\"#ed7953\"],[0.7777777777777778,\"#fb9f3a\"],[0.8888888888888888,\"#fdca26\"],[1.0,\"#f0f921\"]],\"sequentialminus\":[[0.0,\"#0d0887\"],[0.1111111111111111,\"#46039f\"],[0.2222222222222222,\"#7201a8\"],[0.3333333333333333,\"#9c179e\"],[0.4444444444444444,\"#bd3786\"],[0.5555555555555556,\"#d8576b\"],[0.6666666666666666,\"#ed7953\"],[0.7777777777777778,\"#fb9f3a\"],[0.8888888888888888,\"#fdca26\"],[1.0,\"#f0f921\"]]},\"colorway\":[\"#636efa\",\"#EF553B\",\"#00cc96\",\"#ab63fa\",\"#FFA15A\",\"#19d3f3\",\"#FF6692\",\"#B6E880\",\"#FF97FF\",\"#FECB52\"],\"font\":{\"color\":\"#2a3f5f\"},\"geo\":{\"bgcolor\":\"white\",\"lakecolor\":\"white\",\"landcolor\":\"white\",\"showlakes\":true,\"showland\":true,\"subunitcolor\":\"#C8D4E3\"},\"hoverlabel\":{\"align\":\"left\"},\"hovermode\":\"closest\",\"mapbox\":{\"style\":\"light\"},\"paper_bgcolor\":\"white\",\"plot_bgcolor\":\"white\",\"polar\":{\"angularaxis\":{\"gridcolor\":\"#EBF0F8\",\"linecolor\":\"#EBF0F8\",\"ticks\":\"\"},\"bgcolor\":\"white\",\"radialaxis\":{\"gridcolor\":\"#EBF0F8\",\"linecolor\":\"#EBF0F8\",\"ticks\":\"\"}},\"scene\":{\"xaxis\":{\"backgroundcolor\":\"white\",\"gridcolor\":\"#DFE8F3\",\"gridwidth\":2,\"linecolor\":\"#EBF0F8\",\"showbackground\":true,\"ticks\":\"\",\"zerolinecolor\":\"#EBF0F8\"},\"yaxis\":{\"backgroundcolor\":\"white\",\"gridcolor\":\"#DFE8F3\",\"gridwidth\":2,\"linecolor\":\"#EBF0F8\",\"showbackground\":true,\"ticks\":\"\",\"zerolinecolor\":\"#EBF0F8\"},\"zaxis\":{\"backgroundcolor\":\"white\",\"gridcolor\":\"#DFE8F3\",\"gridwidth\":2,\"linecolor\":\"#EBF0F8\",\"showbackground\":true,\"ticks\":\"\",\"zerolinecolor\":\"#EBF0F8\"}},\"shapedefaults\":{\"line\":{\"color\":\"#2a3f5f\"}},\"ternary\":{\"aaxis\":{\"gridcolor\":\"#DFE8F3\",\"linecolor\":\"#A2B1C6\",\"ticks\":\"\"},\"baxis\":{\"gridcolor\":\"#DFE8F3\",\"linecolor\":\"#A2B1C6\",\"ticks\":\"\"},\"bgcolor\":\"white\",\"caxis\":{\"gridcolor\":\"#DFE8F3\",\"linecolor\":\"#A2B1C6\",\"ticks\":\"\"}},\"title\":{\"x\":0.05},\"xaxis\":{\"automargin\":true,\"gridcolor\":\"#EBF0F8\",\"linecolor\":\"#EBF0F8\",\"ticks\":\"\",\"title\":{\"standoff\":15},\"zerolinecolor\":\"#EBF0F8\",\"zerolinewidth\":2},\"yaxis\":{\"automargin\":true,\"gridcolor\":\"#EBF0F8\",\"linecolor\":\"#EBF0F8\",\"ticks\":\"\",\"title\":{\"standoff\":15},\"zerolinecolor\":\"#EBF0F8\",\"zerolinewidth\":2}}},\"xaxis\":{\"anchor\":\"y\",\"domain\":[0.0,1.0],\"title\":{\"text\":\"Representative Price\"},\"showgrid\":false,\"tickprefix\":\"$\"},\"yaxis\":{\"anchor\":\"x\",\"domain\":[0.0,1.0],\"title\":{\"text\":\"Ordered Product Quantity\"},\"showgrid\":false},\"legend\":{\"title\":{\"text\":\"color\"},\"tracegroupgap\":0,\"itemsizing\":\"constant\"},\"margin\":{\"t\":60},\"title\":{\"text\":\"First target: 1/17-1/21\"},\"height\":600,\"width\":800},                        {\"responsive\": true}                    ).then(function(){\n",
       "                            \n",
       "var gd = document.getElementById('1192f504-fe61-419b-9a14-8c93abec0ba5');\n",
       "var x = new MutationObserver(function (mutations, observer) {{\n",
       "        var display = window.getComputedStyle(gd).display;\n",
       "        if (!display || display === 'none') {{\n",
       "            console.log([gd, 'removed!']);\n",
       "            Plotly.purge(gd);\n",
       "            observer.disconnect();\n",
       "        }}\n",
       "}});\n",
       "\n",
       "// Listen for the removal of the full notebook cells\n",
       "var notebookContainer = gd.closest('#notebook-container');\n",
       "if (notebookContainer) {{\n",
       "    x.observe(notebookContainer, {childList: true});\n",
       "}}\n",
       "\n",
       "// Listen for the clearing of the current output cell\n",
       "var outputEl = gd.closest('.output');\n",
       "if (outputEl) {{\n",
       "    x.observe(outputEl, {childList: true});\n",
       "}}\n",
       "\n",
       "                        })                };                });            </script>        </div>"
      ]
     },
     "metadata": {},
     "output_type": "display_data"
    }
   ],
   "source": [
    "data_scatter = data.copy()\n",
    "data_scatter['target'] = np.where((data_scatter['representative_price'] >= MIN_PRICE)\n",
    "                                  & (data_scatter['representative_price'] <= MAX_PRICE)\n",
    "                                  &(data_scatter['view_sessions'] >= MIN_VIEWS)\n",
    "                                  & (data_scatter['view_sessions'] <= MAX_VIEWS),\n",
    "                                     'Cumple la condición', \n",
    "                                     'No cumple')\n",
    "\n",
    "\n",
    "fig = px.scatter(x = data['representative_price'], \n",
    "                 y = data['ordered_product_quantity'],\n",
    "                 color = data_scatter['target'],\n",
    "                 size = data['view_sessions'], trendline = 'ols'\n",
    "                )\n",
    "\n",
    "\n",
    "\n",
    "\n",
    "fig.update_layout(template = 'plotly_white',\n",
    "                  xaxis=dict(showgrid=False), \n",
    "                  yaxis=dict(showgrid=False), \n",
    "                  title = 'First target: 1/17-1/21',\n",
    "                  height=600, width=800)\n",
    "\n",
    "fig.update_xaxes(tickprefix=\"$\", title = 'Representative Price')\n",
    "fig.update_yaxes( title = 'Ordered Product Quantity')\n",
    "\n",
    "fig.show()"
   ]
  },
  {
   "cell_type": "code",
   "execution_count": null,
   "id": "171b58f7",
   "metadata": {},
   "outputs": [],
   "source": []
  }
 ],
 "metadata": {
  "kernelspec": {
   "display_name": "Python 3 (ipykernel)",
   "language": "python",
   "name": "python3"
  },
  "language_info": {
   "codemirror_mode": {
    "name": "ipython",
    "version": 3
   },
   "file_extension": ".py",
   "mimetype": "text/x-python",
   "name": "python",
   "nbconvert_exporter": "python",
   "pygments_lexer": "ipython3",
   "version": "3.9.7"
  }
 },
 "nbformat": 4,
 "nbformat_minor": 5
}
